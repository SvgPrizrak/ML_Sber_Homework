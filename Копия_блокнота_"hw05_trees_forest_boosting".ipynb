{
  "cells": [
    {
      "cell_type": "markdown",
      "metadata": {
        "id": "view-in-github",
        "colab_type": "text"
      },
      "source": [
        "<a href=\"https://colab.research.google.com/github/SvgPrizrak/ML_Sber_Homework/blob/main/%D0%9A%D0%BE%D0%BF%D0%B8%D1%8F_%D0%B1%D0%BB%D0%BE%D0%BA%D0%BD%D0%BE%D1%82%D0%B0_%22hw05_trees_forest_boosting%22.ipynb\" target=\"_parent\"><img src=\"https://colab.research.google.com/assets/colab-badge.svg\" alt=\"Open In Colab\"/></a>"
      ]
    },
    {
      "cell_type": "markdown",
      "source": [
        "# ДЗ 5. Решающие деревья, леса, бустинги"
      ],
      "metadata": {
        "id": "Op_Jufx7FnBP"
      }
    },
    {
      "cell_type": "markdown",
      "source": [
        "В рамках этого ДЗ вам предлагается решить задачу кредитного скоринга с соревнования на [Kaggle](https://inclass.kaggle.com/c/beeline-credit-scoring-competition-2), используя \"древесные\" модели классификации."
      ],
      "metadata": {
        "id": "sjna4uFvF2TM"
      }
    },
    {
      "cell_type": "code",
      "execution_count": null,
      "metadata": {
        "id": "QIVtTY-4BXxq",
        "colab": {
          "base_uri": "https://localhost:8080/"
        },
        "outputId": "15d8b899-721d-4abc-85dc-d219f4ad0667"
      },
      "outputs": [
        {
          "output_type": "stream",
          "name": "stdout",
          "text": [
            "Populating the interactive namespace from numpy and matplotlib\n"
          ]
        }
      ],
      "source": [
        "import warnings\n",
        "warnings.filterwarnings('ignore')\n",
        "import numpy as np\n",
        "import pandas as pd\n",
        "import matplotlib.pyplot as plt\n",
        "from sklearn.model_selection import train_test_split\n",
        "\n",
        "%pylab inline"
      ]
    },
    {
      "cell_type": "markdown",
      "metadata": {
        "id": "4eIujyofBXxs"
      },
      "source": [
        "# Предобработка данных"
      ]
    },
    {
      "cell_type": "code",
      "source": [
        "!gdown 1RT9638iIwAP3JmdgPcxHN15NvsAHf7am"
      ],
      "metadata": {
        "colab": {
          "base_uri": "https://localhost:8080/"
        },
        "id": "QzqcE43OGckp",
        "outputId": "f50471b7-5519-42be-ec8c-444c62d144cd"
      },
      "execution_count": null,
      "outputs": [
        {
          "output_type": "stream",
          "name": "stdout",
          "text": [
            "Downloading...\n",
            "From: https://drive.google.com/uc?id=1RT9638iIwAP3JmdgPcxHN15NvsAHf7am\n",
            "To: /content/credit_scoring_train.csv\n",
            "\r  0% 0.00/3.95M [00:00<?, ?B/s]\r100% 3.95M/3.95M [00:00<00:00, 93.5MB/s]\n"
          ]
        }
      ]
    },
    {
      "cell_type": "code",
      "execution_count": null,
      "metadata": {
        "id": "HDI6P1fKBXxs"
      },
      "outputs": [],
      "source": [
        "train_df = pd.read_csv('credit_scoring_train.csv', index_col='client_id')"
      ]
    },
    {
      "cell_type": "markdown",
      "metadata": {
        "id": "2HUAilhABXxo"
      },
      "source": [
        "Признаки клиентов банка:\n",
        "- `Age` - возраст (вещественный)\n",
        "- `Income` - месячный доход (вещественный)\n",
        "- `BalanceToCreditLimit` - отношение баланса на кредитной карте к лимиту по кредиту (вещественный)\n",
        "- `DIR` - Debt-to-income Ratio (вещественный)\n",
        "- `NumLoans` - число заемов и кредитных линий\n",
        "- `NumRealEstateLoans` - число ипотек и заемов, связанных с недвижимостью (натуральное число)\n",
        "- `NumDependents` - число членов семьи, которых содержит клиент, исключая самого клиента (натуральное число)\n",
        "- `Num30-59Delinquencies` - число просрочек выплат по кредиту от 30 до 59 дней (натуральное число)\n",
        "- `Num60-89Delinquencies` - число просрочек выплат по кредиту от 60 до 89 дней (натуральное число)\n",
        "- `Delinquent90` - были ли просрочки выплат по кредиту более 90 дней (бинарный) - имеется только в обучающей выборке"
      ]
    },
    {
      "cell_type": "markdown",
      "source": [
        "### Знакомство с данными"
      ],
      "metadata": {
        "id": "P1RelOe7I0qj"
      }
    },
    {
      "cell_type": "markdown",
      "source": [
        "Ознакомимся с данными:"
      ],
      "metadata": {
        "id": "xVAgA5WwHDry"
      }
    },
    {
      "cell_type": "code",
      "execution_count": null,
      "metadata": {
        "colab": {
          "base_uri": "https://localhost:8080/",
          "height": 237
        },
        "id": "cwn3O8rYBXxu",
        "outputId": "733047e6-d4b5-4dfc-b2a7-ea12452eed2f"
      },
      "outputs": [
        {
          "output_type": "execute_result",
          "data": {
            "text/plain": [
              "                   DIR   Age  NumLoans  NumRealEstateLoans  NumDependents  \\\n",
              "client_id                                                                   \n",
              "0             0.496289  49.1        13                   0            0.0   \n",
              "1             0.433567  48.0         9                   2            2.0   \n",
              "2          2206.731199  55.5        21                   1            NaN   \n",
              "3           886.132793  55.3         3                   0            0.0   \n",
              "4             0.000000  52.3         1                   0            0.0   \n",
              "\n",
              "           Num30-59Delinquencies  Num60-89Delinquencies       Income  \\\n",
              "client_id                                                              \n",
              "0                              2                      0  5298.360639   \n",
              "1                              1                      0  6008.056256   \n",
              "2                              1                      0          NaN   \n",
              "3                              0                      0          NaN   \n",
              "4                              0                      0  2504.613105   \n",
              "\n",
              "           BalanceToCreditLimit  Delinquent90  \n",
              "client_id                                      \n",
              "0                      0.387028             0  \n",
              "1                      0.234679             0  \n",
              "2                      0.348227             0  \n",
              "3                      0.971930             0  \n",
              "4                      1.004350             0  "
            ],
            "text/html": [
              "\n",
              "  <div id=\"df-0585f4c1-c254-44f1-91b4-f465d8945ff1\" class=\"colab-df-container\">\n",
              "    <div>\n",
              "<style scoped>\n",
              "    .dataframe tbody tr th:only-of-type {\n",
              "        vertical-align: middle;\n",
              "    }\n",
              "\n",
              "    .dataframe tbody tr th {\n",
              "        vertical-align: top;\n",
              "    }\n",
              "\n",
              "    .dataframe thead th {\n",
              "        text-align: right;\n",
              "    }\n",
              "</style>\n",
              "<table border=\"1\" class=\"dataframe\">\n",
              "  <thead>\n",
              "    <tr style=\"text-align: right;\">\n",
              "      <th></th>\n",
              "      <th>DIR</th>\n",
              "      <th>Age</th>\n",
              "      <th>NumLoans</th>\n",
              "      <th>NumRealEstateLoans</th>\n",
              "      <th>NumDependents</th>\n",
              "      <th>Num30-59Delinquencies</th>\n",
              "      <th>Num60-89Delinquencies</th>\n",
              "      <th>Income</th>\n",
              "      <th>BalanceToCreditLimit</th>\n",
              "      <th>Delinquent90</th>\n",
              "    </tr>\n",
              "    <tr>\n",
              "      <th>client_id</th>\n",
              "      <th></th>\n",
              "      <th></th>\n",
              "      <th></th>\n",
              "      <th></th>\n",
              "      <th></th>\n",
              "      <th></th>\n",
              "      <th></th>\n",
              "      <th></th>\n",
              "      <th></th>\n",
              "      <th></th>\n",
              "    </tr>\n",
              "  </thead>\n",
              "  <tbody>\n",
              "    <tr>\n",
              "      <th>0</th>\n",
              "      <td>0.496289</td>\n",
              "      <td>49.1</td>\n",
              "      <td>13</td>\n",
              "      <td>0</td>\n",
              "      <td>0.0</td>\n",
              "      <td>2</td>\n",
              "      <td>0</td>\n",
              "      <td>5298.360639</td>\n",
              "      <td>0.387028</td>\n",
              "      <td>0</td>\n",
              "    </tr>\n",
              "    <tr>\n",
              "      <th>1</th>\n",
              "      <td>0.433567</td>\n",
              "      <td>48.0</td>\n",
              "      <td>9</td>\n",
              "      <td>2</td>\n",
              "      <td>2.0</td>\n",
              "      <td>1</td>\n",
              "      <td>0</td>\n",
              "      <td>6008.056256</td>\n",
              "      <td>0.234679</td>\n",
              "      <td>0</td>\n",
              "    </tr>\n",
              "    <tr>\n",
              "      <th>2</th>\n",
              "      <td>2206.731199</td>\n",
              "      <td>55.5</td>\n",
              "      <td>21</td>\n",
              "      <td>1</td>\n",
              "      <td>NaN</td>\n",
              "      <td>1</td>\n",
              "      <td>0</td>\n",
              "      <td>NaN</td>\n",
              "      <td>0.348227</td>\n",
              "      <td>0</td>\n",
              "    </tr>\n",
              "    <tr>\n",
              "      <th>3</th>\n",
              "      <td>886.132793</td>\n",
              "      <td>55.3</td>\n",
              "      <td>3</td>\n",
              "      <td>0</td>\n",
              "      <td>0.0</td>\n",
              "      <td>0</td>\n",
              "      <td>0</td>\n",
              "      <td>NaN</td>\n",
              "      <td>0.971930</td>\n",
              "      <td>0</td>\n",
              "    </tr>\n",
              "    <tr>\n",
              "      <th>4</th>\n",
              "      <td>0.000000</td>\n",
              "      <td>52.3</td>\n",
              "      <td>1</td>\n",
              "      <td>0</td>\n",
              "      <td>0.0</td>\n",
              "      <td>0</td>\n",
              "      <td>0</td>\n",
              "      <td>2504.613105</td>\n",
              "      <td>1.004350</td>\n",
              "      <td>0</td>\n",
              "    </tr>\n",
              "  </tbody>\n",
              "</table>\n",
              "</div>\n",
              "    <div class=\"colab-df-buttons\">\n",
              "\n",
              "  <div class=\"colab-df-container\">\n",
              "    <button class=\"colab-df-convert\" onclick=\"convertToInteractive('df-0585f4c1-c254-44f1-91b4-f465d8945ff1')\"\n",
              "            title=\"Convert this dataframe to an interactive table.\"\n",
              "            style=\"display:none;\">\n",
              "\n",
              "  <svg xmlns=\"http://www.w3.org/2000/svg\" height=\"24px\" viewBox=\"0 -960 960 960\">\n",
              "    <path d=\"M120-120v-720h720v720H120Zm60-500h600v-160H180v160Zm220 220h160v-160H400v160Zm0 220h160v-160H400v160ZM180-400h160v-160H180v160Zm440 0h160v-160H620v160ZM180-180h160v-160H180v160Zm440 0h160v-160H620v160Z\"/>\n",
              "  </svg>\n",
              "    </button>\n",
              "\n",
              "  <style>\n",
              "    .colab-df-container {\n",
              "      display:flex;\n",
              "      gap: 12px;\n",
              "    }\n",
              "\n",
              "    .colab-df-convert {\n",
              "      background-color: #E8F0FE;\n",
              "      border: none;\n",
              "      border-radius: 50%;\n",
              "      cursor: pointer;\n",
              "      display: none;\n",
              "      fill: #1967D2;\n",
              "      height: 32px;\n",
              "      padding: 0 0 0 0;\n",
              "      width: 32px;\n",
              "    }\n",
              "\n",
              "    .colab-df-convert:hover {\n",
              "      background-color: #E2EBFA;\n",
              "      box-shadow: 0px 1px 2px rgba(60, 64, 67, 0.3), 0px 1px 3px 1px rgba(60, 64, 67, 0.15);\n",
              "      fill: #174EA6;\n",
              "    }\n",
              "\n",
              "    .colab-df-buttons div {\n",
              "      margin-bottom: 4px;\n",
              "    }\n",
              "\n",
              "    [theme=dark] .colab-df-convert {\n",
              "      background-color: #3B4455;\n",
              "      fill: #D2E3FC;\n",
              "    }\n",
              "\n",
              "    [theme=dark] .colab-df-convert:hover {\n",
              "      background-color: #434B5C;\n",
              "      box-shadow: 0px 1px 3px 1px rgba(0, 0, 0, 0.15);\n",
              "      filter: drop-shadow(0px 1px 2px rgba(0, 0, 0, 0.3));\n",
              "      fill: #FFFFFF;\n",
              "    }\n",
              "  </style>\n",
              "\n",
              "    <script>\n",
              "      const buttonEl =\n",
              "        document.querySelector('#df-0585f4c1-c254-44f1-91b4-f465d8945ff1 button.colab-df-convert');\n",
              "      buttonEl.style.display =\n",
              "        google.colab.kernel.accessAllowed ? 'block' : 'none';\n",
              "\n",
              "      async function convertToInteractive(key) {\n",
              "        const element = document.querySelector('#df-0585f4c1-c254-44f1-91b4-f465d8945ff1');\n",
              "        const dataTable =\n",
              "          await google.colab.kernel.invokeFunction('convertToInteractive',\n",
              "                                                    [key], {});\n",
              "        if (!dataTable) return;\n",
              "\n",
              "        const docLinkHtml = 'Like what you see? Visit the ' +\n",
              "          '<a target=\"_blank\" href=https://colab.research.google.com/notebooks/data_table.ipynb>data table notebook</a>'\n",
              "          + ' to learn more about interactive tables.';\n",
              "        element.innerHTML = '';\n",
              "        dataTable['output_type'] = 'display_data';\n",
              "        await google.colab.output.renderOutput(dataTable, element);\n",
              "        const docLink = document.createElement('div');\n",
              "        docLink.innerHTML = docLinkHtml;\n",
              "        element.appendChild(docLink);\n",
              "      }\n",
              "    </script>\n",
              "  </div>\n",
              "\n",
              "\n",
              "<div id=\"df-4c5d535f-7a4a-4d34-aca9-1fc05ba373be\">\n",
              "  <button class=\"colab-df-quickchart\" onclick=\"quickchart('df-4c5d535f-7a4a-4d34-aca9-1fc05ba373be')\"\n",
              "            title=\"Suggest charts\"\n",
              "            style=\"display:none;\">\n",
              "\n",
              "<svg xmlns=\"http://www.w3.org/2000/svg\" height=\"24px\"viewBox=\"0 0 24 24\"\n",
              "     width=\"24px\">\n",
              "    <g>\n",
              "        <path d=\"M19 3H5c-1.1 0-2 .9-2 2v14c0 1.1.9 2 2 2h14c1.1 0 2-.9 2-2V5c0-1.1-.9-2-2-2zM9 17H7v-7h2v7zm4 0h-2V7h2v10zm4 0h-2v-4h2v4z\"/>\n",
              "    </g>\n",
              "</svg>\n",
              "  </button>\n",
              "\n",
              "<style>\n",
              "  .colab-df-quickchart {\n",
              "      --bg-color: #E8F0FE;\n",
              "      --fill-color: #1967D2;\n",
              "      --hover-bg-color: #E2EBFA;\n",
              "      --hover-fill-color: #174EA6;\n",
              "      --disabled-fill-color: #AAA;\n",
              "      --disabled-bg-color: #DDD;\n",
              "  }\n",
              "\n",
              "  [theme=dark] .colab-df-quickchart {\n",
              "      --bg-color: #3B4455;\n",
              "      --fill-color: #D2E3FC;\n",
              "      --hover-bg-color: #434B5C;\n",
              "      --hover-fill-color: #FFFFFF;\n",
              "      --disabled-bg-color: #3B4455;\n",
              "      --disabled-fill-color: #666;\n",
              "  }\n",
              "\n",
              "  .colab-df-quickchart {\n",
              "    background-color: var(--bg-color);\n",
              "    border: none;\n",
              "    border-radius: 50%;\n",
              "    cursor: pointer;\n",
              "    display: none;\n",
              "    fill: var(--fill-color);\n",
              "    height: 32px;\n",
              "    padding: 0;\n",
              "    width: 32px;\n",
              "  }\n",
              "\n",
              "  .colab-df-quickchart:hover {\n",
              "    background-color: var(--hover-bg-color);\n",
              "    box-shadow: 0 1px 2px rgba(60, 64, 67, 0.3), 0 1px 3px 1px rgba(60, 64, 67, 0.15);\n",
              "    fill: var(--button-hover-fill-color);\n",
              "  }\n",
              "\n",
              "  .colab-df-quickchart-complete:disabled,\n",
              "  .colab-df-quickchart-complete:disabled:hover {\n",
              "    background-color: var(--disabled-bg-color);\n",
              "    fill: var(--disabled-fill-color);\n",
              "    box-shadow: none;\n",
              "  }\n",
              "\n",
              "  .colab-df-spinner {\n",
              "    border: 2px solid var(--fill-color);\n",
              "    border-color: transparent;\n",
              "    border-bottom-color: var(--fill-color);\n",
              "    animation:\n",
              "      spin 1s steps(1) infinite;\n",
              "  }\n",
              "\n",
              "  @keyframes spin {\n",
              "    0% {\n",
              "      border-color: transparent;\n",
              "      border-bottom-color: var(--fill-color);\n",
              "      border-left-color: var(--fill-color);\n",
              "    }\n",
              "    20% {\n",
              "      border-color: transparent;\n",
              "      border-left-color: var(--fill-color);\n",
              "      border-top-color: var(--fill-color);\n",
              "    }\n",
              "    30% {\n",
              "      border-color: transparent;\n",
              "      border-left-color: var(--fill-color);\n",
              "      border-top-color: var(--fill-color);\n",
              "      border-right-color: var(--fill-color);\n",
              "    }\n",
              "    40% {\n",
              "      border-color: transparent;\n",
              "      border-right-color: var(--fill-color);\n",
              "      border-top-color: var(--fill-color);\n",
              "    }\n",
              "    60% {\n",
              "      border-color: transparent;\n",
              "      border-right-color: var(--fill-color);\n",
              "    }\n",
              "    80% {\n",
              "      border-color: transparent;\n",
              "      border-right-color: var(--fill-color);\n",
              "      border-bottom-color: var(--fill-color);\n",
              "    }\n",
              "    90% {\n",
              "      border-color: transparent;\n",
              "      border-bottom-color: var(--fill-color);\n",
              "    }\n",
              "  }\n",
              "</style>\n",
              "\n",
              "  <script>\n",
              "    async function quickchart(key) {\n",
              "      const quickchartButtonEl =\n",
              "        document.querySelector('#' + key + ' button');\n",
              "      quickchartButtonEl.disabled = true;  // To prevent multiple clicks.\n",
              "      quickchartButtonEl.classList.add('colab-df-spinner');\n",
              "      try {\n",
              "        const charts = await google.colab.kernel.invokeFunction(\n",
              "            'suggestCharts', [key], {});\n",
              "      } catch (error) {\n",
              "        console.error('Error during call to suggestCharts:', error);\n",
              "      }\n",
              "      quickchartButtonEl.classList.remove('colab-df-spinner');\n",
              "      quickchartButtonEl.classList.add('colab-df-quickchart-complete');\n",
              "    }\n",
              "    (() => {\n",
              "      let quickchartButtonEl =\n",
              "        document.querySelector('#df-4c5d535f-7a4a-4d34-aca9-1fc05ba373be button');\n",
              "      quickchartButtonEl.style.display =\n",
              "        google.colab.kernel.accessAllowed ? 'block' : 'none';\n",
              "    })();\n",
              "  </script>\n",
              "</div>\n",
              "    </div>\n",
              "  </div>\n"
            ]
          },
          "metadata": {},
          "execution_count": 4
        }
      ],
      "source": [
        "train_df.head()"
      ]
    },
    {
      "cell_type": "code",
      "execution_count": null,
      "metadata": {
        "colab": {
          "base_uri": "https://localhost:8080/",
          "height": 300
        },
        "id": "TbjB4xIhBXxv",
        "outputId": "9e4356d3-4bd1-4ad3-8369-e6643b9ccd7a"
      },
      "outputs": [
        {
          "output_type": "execute_result",
          "data": {
            "text/plain": [
              "                 DIR           Age     NumLoans  NumRealEstateLoans  \\\n",
              "count   75000.000000  75000.000000  75000.00000        75000.000000   \n",
              "mean      353.260293     52.595605      8.44976            1.016693   \n",
              "std      2117.237432     14.869729      5.15644            1.124019   \n",
              "min         0.000000     21.000000      0.00000            0.000000   \n",
              "25%         0.176022     41.300000      5.00000            0.000000   \n",
              "50%         0.366848     52.200000      8.00000            1.000000   \n",
              "75%         0.862650     63.100000     11.00000            2.000000   \n",
              "max    332600.272820    109.800000     56.00000           32.000000   \n",
              "\n",
              "       NumDependents  Num30-59Delinquencies  Num60-89Delinquencies  \\\n",
              "count   73084.000000           75000.000000           75000.000000   \n",
              "mean        0.755966               0.428320               0.248000   \n",
              "std         1.108119               4.276439               4.239486   \n",
              "min         0.000000               0.000000               0.000000   \n",
              "25%         0.000000               0.000000               0.000000   \n",
              "50%         0.000000               0.000000               0.000000   \n",
              "75%         1.000000               0.000000               0.000000   \n",
              "max        20.000000              98.000000              98.000000   \n",
              "\n",
              "             Income  BalanceToCreditLimit  Delinquent90  \n",
              "count  6.015300e+04          75000.000000  75000.000000  \n",
              "mean   6.740059e+03              6.276196      0.066840  \n",
              "std    1.422875e+04            267.743321      0.249746  \n",
              "min    0.000000e+00              0.000000      0.000000  \n",
              "25%    3.421354e+03              0.029703      0.000000  \n",
              "50%    5.424552e+03              0.153720      0.000000  \n",
              "75%    8.291518e+03              0.560638      0.000000  \n",
              "max    1.805573e+06          50873.874533      1.000000  "
            ],
            "text/html": [
              "\n",
              "  <div id=\"df-846d531c-f080-403b-9095-7a3d6a2fc51e\" class=\"colab-df-container\">\n",
              "    <div>\n",
              "<style scoped>\n",
              "    .dataframe tbody tr th:only-of-type {\n",
              "        vertical-align: middle;\n",
              "    }\n",
              "\n",
              "    .dataframe tbody tr th {\n",
              "        vertical-align: top;\n",
              "    }\n",
              "\n",
              "    .dataframe thead th {\n",
              "        text-align: right;\n",
              "    }\n",
              "</style>\n",
              "<table border=\"1\" class=\"dataframe\">\n",
              "  <thead>\n",
              "    <tr style=\"text-align: right;\">\n",
              "      <th></th>\n",
              "      <th>DIR</th>\n",
              "      <th>Age</th>\n",
              "      <th>NumLoans</th>\n",
              "      <th>NumRealEstateLoans</th>\n",
              "      <th>NumDependents</th>\n",
              "      <th>Num30-59Delinquencies</th>\n",
              "      <th>Num60-89Delinquencies</th>\n",
              "      <th>Income</th>\n",
              "      <th>BalanceToCreditLimit</th>\n",
              "      <th>Delinquent90</th>\n",
              "    </tr>\n",
              "  </thead>\n",
              "  <tbody>\n",
              "    <tr>\n",
              "      <th>count</th>\n",
              "      <td>75000.000000</td>\n",
              "      <td>75000.000000</td>\n",
              "      <td>75000.00000</td>\n",
              "      <td>75000.000000</td>\n",
              "      <td>73084.000000</td>\n",
              "      <td>75000.000000</td>\n",
              "      <td>75000.000000</td>\n",
              "      <td>6.015300e+04</td>\n",
              "      <td>75000.000000</td>\n",
              "      <td>75000.000000</td>\n",
              "    </tr>\n",
              "    <tr>\n",
              "      <th>mean</th>\n",
              "      <td>353.260293</td>\n",
              "      <td>52.595605</td>\n",
              "      <td>8.44976</td>\n",
              "      <td>1.016693</td>\n",
              "      <td>0.755966</td>\n",
              "      <td>0.428320</td>\n",
              "      <td>0.248000</td>\n",
              "      <td>6.740059e+03</td>\n",
              "      <td>6.276196</td>\n",
              "      <td>0.066840</td>\n",
              "    </tr>\n",
              "    <tr>\n",
              "      <th>std</th>\n",
              "      <td>2117.237432</td>\n",
              "      <td>14.869729</td>\n",
              "      <td>5.15644</td>\n",
              "      <td>1.124019</td>\n",
              "      <td>1.108119</td>\n",
              "      <td>4.276439</td>\n",
              "      <td>4.239486</td>\n",
              "      <td>1.422875e+04</td>\n",
              "      <td>267.743321</td>\n",
              "      <td>0.249746</td>\n",
              "    </tr>\n",
              "    <tr>\n",
              "      <th>min</th>\n",
              "      <td>0.000000</td>\n",
              "      <td>21.000000</td>\n",
              "      <td>0.00000</td>\n",
              "      <td>0.000000</td>\n",
              "      <td>0.000000</td>\n",
              "      <td>0.000000</td>\n",
              "      <td>0.000000</td>\n",
              "      <td>0.000000e+00</td>\n",
              "      <td>0.000000</td>\n",
              "      <td>0.000000</td>\n",
              "    </tr>\n",
              "    <tr>\n",
              "      <th>25%</th>\n",
              "      <td>0.176022</td>\n",
              "      <td>41.300000</td>\n",
              "      <td>5.00000</td>\n",
              "      <td>0.000000</td>\n",
              "      <td>0.000000</td>\n",
              "      <td>0.000000</td>\n",
              "      <td>0.000000</td>\n",
              "      <td>3.421354e+03</td>\n",
              "      <td>0.029703</td>\n",
              "      <td>0.000000</td>\n",
              "    </tr>\n",
              "    <tr>\n",
              "      <th>50%</th>\n",
              "      <td>0.366848</td>\n",
              "      <td>52.200000</td>\n",
              "      <td>8.00000</td>\n",
              "      <td>1.000000</td>\n",
              "      <td>0.000000</td>\n",
              "      <td>0.000000</td>\n",
              "      <td>0.000000</td>\n",
              "      <td>5.424552e+03</td>\n",
              "      <td>0.153720</td>\n",
              "      <td>0.000000</td>\n",
              "    </tr>\n",
              "    <tr>\n",
              "      <th>75%</th>\n",
              "      <td>0.862650</td>\n",
              "      <td>63.100000</td>\n",
              "      <td>11.00000</td>\n",
              "      <td>2.000000</td>\n",
              "      <td>1.000000</td>\n",
              "      <td>0.000000</td>\n",
              "      <td>0.000000</td>\n",
              "      <td>8.291518e+03</td>\n",
              "      <td>0.560638</td>\n",
              "      <td>0.000000</td>\n",
              "    </tr>\n",
              "    <tr>\n",
              "      <th>max</th>\n",
              "      <td>332600.272820</td>\n",
              "      <td>109.800000</td>\n",
              "      <td>56.00000</td>\n",
              "      <td>32.000000</td>\n",
              "      <td>20.000000</td>\n",
              "      <td>98.000000</td>\n",
              "      <td>98.000000</td>\n",
              "      <td>1.805573e+06</td>\n",
              "      <td>50873.874533</td>\n",
              "      <td>1.000000</td>\n",
              "    </tr>\n",
              "  </tbody>\n",
              "</table>\n",
              "</div>\n",
              "    <div class=\"colab-df-buttons\">\n",
              "\n",
              "  <div class=\"colab-df-container\">\n",
              "    <button class=\"colab-df-convert\" onclick=\"convertToInteractive('df-846d531c-f080-403b-9095-7a3d6a2fc51e')\"\n",
              "            title=\"Convert this dataframe to an interactive table.\"\n",
              "            style=\"display:none;\">\n",
              "\n",
              "  <svg xmlns=\"http://www.w3.org/2000/svg\" height=\"24px\" viewBox=\"0 -960 960 960\">\n",
              "    <path d=\"M120-120v-720h720v720H120Zm60-500h600v-160H180v160Zm220 220h160v-160H400v160Zm0 220h160v-160H400v160ZM180-400h160v-160H180v160Zm440 0h160v-160H620v160ZM180-180h160v-160H180v160Zm440 0h160v-160H620v160Z\"/>\n",
              "  </svg>\n",
              "    </button>\n",
              "\n",
              "  <style>\n",
              "    .colab-df-container {\n",
              "      display:flex;\n",
              "      gap: 12px;\n",
              "    }\n",
              "\n",
              "    .colab-df-convert {\n",
              "      background-color: #E8F0FE;\n",
              "      border: none;\n",
              "      border-radius: 50%;\n",
              "      cursor: pointer;\n",
              "      display: none;\n",
              "      fill: #1967D2;\n",
              "      height: 32px;\n",
              "      padding: 0 0 0 0;\n",
              "      width: 32px;\n",
              "    }\n",
              "\n",
              "    .colab-df-convert:hover {\n",
              "      background-color: #E2EBFA;\n",
              "      box-shadow: 0px 1px 2px rgba(60, 64, 67, 0.3), 0px 1px 3px 1px rgba(60, 64, 67, 0.15);\n",
              "      fill: #174EA6;\n",
              "    }\n",
              "\n",
              "    .colab-df-buttons div {\n",
              "      margin-bottom: 4px;\n",
              "    }\n",
              "\n",
              "    [theme=dark] .colab-df-convert {\n",
              "      background-color: #3B4455;\n",
              "      fill: #D2E3FC;\n",
              "    }\n",
              "\n",
              "    [theme=dark] .colab-df-convert:hover {\n",
              "      background-color: #434B5C;\n",
              "      box-shadow: 0px 1px 3px 1px rgba(0, 0, 0, 0.15);\n",
              "      filter: drop-shadow(0px 1px 2px rgba(0, 0, 0, 0.3));\n",
              "      fill: #FFFFFF;\n",
              "    }\n",
              "  </style>\n",
              "\n",
              "    <script>\n",
              "      const buttonEl =\n",
              "        document.querySelector('#df-846d531c-f080-403b-9095-7a3d6a2fc51e button.colab-df-convert');\n",
              "      buttonEl.style.display =\n",
              "        google.colab.kernel.accessAllowed ? 'block' : 'none';\n",
              "\n",
              "      async function convertToInteractive(key) {\n",
              "        const element = document.querySelector('#df-846d531c-f080-403b-9095-7a3d6a2fc51e');\n",
              "        const dataTable =\n",
              "          await google.colab.kernel.invokeFunction('convertToInteractive',\n",
              "                                                    [key], {});\n",
              "        if (!dataTable) return;\n",
              "\n",
              "        const docLinkHtml = 'Like what you see? Visit the ' +\n",
              "          '<a target=\"_blank\" href=https://colab.research.google.com/notebooks/data_table.ipynb>data table notebook</a>'\n",
              "          + ' to learn more about interactive tables.';\n",
              "        element.innerHTML = '';\n",
              "        dataTable['output_type'] = 'display_data';\n",
              "        await google.colab.output.renderOutput(dataTable, element);\n",
              "        const docLink = document.createElement('div');\n",
              "        docLink.innerHTML = docLinkHtml;\n",
              "        element.appendChild(docLink);\n",
              "      }\n",
              "    </script>\n",
              "  </div>\n",
              "\n",
              "\n",
              "<div id=\"df-04ac1b36-a6b6-4943-badd-b577260eb3b7\">\n",
              "  <button class=\"colab-df-quickchart\" onclick=\"quickchart('df-04ac1b36-a6b6-4943-badd-b577260eb3b7')\"\n",
              "            title=\"Suggest charts\"\n",
              "            style=\"display:none;\">\n",
              "\n",
              "<svg xmlns=\"http://www.w3.org/2000/svg\" height=\"24px\"viewBox=\"0 0 24 24\"\n",
              "     width=\"24px\">\n",
              "    <g>\n",
              "        <path d=\"M19 3H5c-1.1 0-2 .9-2 2v14c0 1.1.9 2 2 2h14c1.1 0 2-.9 2-2V5c0-1.1-.9-2-2-2zM9 17H7v-7h2v7zm4 0h-2V7h2v10zm4 0h-2v-4h2v4z\"/>\n",
              "    </g>\n",
              "</svg>\n",
              "  </button>\n",
              "\n",
              "<style>\n",
              "  .colab-df-quickchart {\n",
              "      --bg-color: #E8F0FE;\n",
              "      --fill-color: #1967D2;\n",
              "      --hover-bg-color: #E2EBFA;\n",
              "      --hover-fill-color: #174EA6;\n",
              "      --disabled-fill-color: #AAA;\n",
              "      --disabled-bg-color: #DDD;\n",
              "  }\n",
              "\n",
              "  [theme=dark] .colab-df-quickchart {\n",
              "      --bg-color: #3B4455;\n",
              "      --fill-color: #D2E3FC;\n",
              "      --hover-bg-color: #434B5C;\n",
              "      --hover-fill-color: #FFFFFF;\n",
              "      --disabled-bg-color: #3B4455;\n",
              "      --disabled-fill-color: #666;\n",
              "  }\n",
              "\n",
              "  .colab-df-quickchart {\n",
              "    background-color: var(--bg-color);\n",
              "    border: none;\n",
              "    border-radius: 50%;\n",
              "    cursor: pointer;\n",
              "    display: none;\n",
              "    fill: var(--fill-color);\n",
              "    height: 32px;\n",
              "    padding: 0;\n",
              "    width: 32px;\n",
              "  }\n",
              "\n",
              "  .colab-df-quickchart:hover {\n",
              "    background-color: var(--hover-bg-color);\n",
              "    box-shadow: 0 1px 2px rgba(60, 64, 67, 0.3), 0 1px 3px 1px rgba(60, 64, 67, 0.15);\n",
              "    fill: var(--button-hover-fill-color);\n",
              "  }\n",
              "\n",
              "  .colab-df-quickchart-complete:disabled,\n",
              "  .colab-df-quickchart-complete:disabled:hover {\n",
              "    background-color: var(--disabled-bg-color);\n",
              "    fill: var(--disabled-fill-color);\n",
              "    box-shadow: none;\n",
              "  }\n",
              "\n",
              "  .colab-df-spinner {\n",
              "    border: 2px solid var(--fill-color);\n",
              "    border-color: transparent;\n",
              "    border-bottom-color: var(--fill-color);\n",
              "    animation:\n",
              "      spin 1s steps(1) infinite;\n",
              "  }\n",
              "\n",
              "  @keyframes spin {\n",
              "    0% {\n",
              "      border-color: transparent;\n",
              "      border-bottom-color: var(--fill-color);\n",
              "      border-left-color: var(--fill-color);\n",
              "    }\n",
              "    20% {\n",
              "      border-color: transparent;\n",
              "      border-left-color: var(--fill-color);\n",
              "      border-top-color: var(--fill-color);\n",
              "    }\n",
              "    30% {\n",
              "      border-color: transparent;\n",
              "      border-left-color: var(--fill-color);\n",
              "      border-top-color: var(--fill-color);\n",
              "      border-right-color: var(--fill-color);\n",
              "    }\n",
              "    40% {\n",
              "      border-color: transparent;\n",
              "      border-right-color: var(--fill-color);\n",
              "      border-top-color: var(--fill-color);\n",
              "    }\n",
              "    60% {\n",
              "      border-color: transparent;\n",
              "      border-right-color: var(--fill-color);\n",
              "    }\n",
              "    80% {\n",
              "      border-color: transparent;\n",
              "      border-right-color: var(--fill-color);\n",
              "      border-bottom-color: var(--fill-color);\n",
              "    }\n",
              "    90% {\n",
              "      border-color: transparent;\n",
              "      border-bottom-color: var(--fill-color);\n",
              "    }\n",
              "  }\n",
              "</style>\n",
              "\n",
              "  <script>\n",
              "    async function quickchart(key) {\n",
              "      const quickchartButtonEl =\n",
              "        document.querySelector('#' + key + ' button');\n",
              "      quickchartButtonEl.disabled = true;  // To prevent multiple clicks.\n",
              "      quickchartButtonEl.classList.add('colab-df-spinner');\n",
              "      try {\n",
              "        const charts = await google.colab.kernel.invokeFunction(\n",
              "            'suggestCharts', [key], {});\n",
              "      } catch (error) {\n",
              "        console.error('Error during call to suggestCharts:', error);\n",
              "      }\n",
              "      quickchartButtonEl.classList.remove('colab-df-spinner');\n",
              "      quickchartButtonEl.classList.add('colab-df-quickchart-complete');\n",
              "    }\n",
              "    (() => {\n",
              "      let quickchartButtonEl =\n",
              "        document.querySelector('#df-04ac1b36-a6b6-4943-badd-b577260eb3b7 button');\n",
              "      quickchartButtonEl.style.display =\n",
              "        google.colab.kernel.accessAllowed ? 'block' : 'none';\n",
              "    })();\n",
              "  </script>\n",
              "</div>\n",
              "    </div>\n",
              "  </div>\n"
            ]
          },
          "metadata": {},
          "execution_count": 5
        }
      ],
      "source": [
        "train_df.describe()"
      ]
    },
    {
      "cell_type": "code",
      "execution_count": null,
      "metadata": {
        "colab": {
          "base_uri": "https://localhost:8080/",
          "height": 853
        },
        "id": "TJ9jyaqZBXxt",
        "outputId": "d82943df-b770-4c15-b3c2-d260d9ebbbcb"
      },
      "outputs": [
        {
          "output_type": "display_data",
          "data": {
            "text/plain": [
              "<Figure size 1000x1000 with 12 Axes>"
            ],
            "image/png": "[encoded data removed]"
          },
          "metadata": {}
        }
      ],
      "source": [
        "# подгоним графики под масштаб\n",
        "fig=plt.figure(figsize=(10, 10))\n",
        "ax = fig.gca()\n",
        "hists = train_df.hist(ax=ax, bins=10)"
      ]
    },
    {
      "cell_type": "markdown",
      "source": [
        "В качестве целевого признака используем колонку `Delinquent90` - просрочившие больше чем на 90 дней."
      ],
      "metadata": {
        "id": "jwELYE5QHMgQ"
      }
    },
    {
      "cell_type": "markdown",
      "source": [
        "Отделите выделите из обучающего датасета целевой признак `y` и матрицу \"объекты-признаки\" `X`:"
      ],
      "metadata": {
        "id": "cNMbNFUzHeYg"
      }
    },
    {
      "cell_type": "code",
      "execution_count": null,
      "metadata": {
        "id": "pxgR2VEMBXxt"
      },
      "outputs": [],
      "source": [
        "y = train_df['Delinquent90']\n",
        "X = train_df.drop('Delinquent90', axis=1)"
      ]
    },
    {
      "cell_type": "markdown",
      "source": [
        "Посмотрите на количество объектов каждого из классов:"
      ],
      "metadata": {
        "id": "jS_U70wMHtV8"
      }
    },
    {
      "cell_type": "code",
      "source": [
        "# ваш код здесь\n",
        "\n",
        "# мы видим дисбаланс классов - доля правильных ответов явно не будет лучшей метрикой\n",
        "y.value_counts()"
      ],
      "metadata": {
        "id": "hUqzLKBPHy8e",
        "colab": {
          "base_uri": "https://localhost:8080/"
        },
        "outputId": "eca955f5-4e5a-4b1c-de28-5ea7bb142d35"
      },
      "execution_count": null,
      "outputs": [
        {
          "output_type": "execute_result",
          "data": {
            "text/plain": [
              "0    69987\n",
              "1     5013\n",
              "Name: Delinquent90, dtype: int64"
            ]
          },
          "metadata": {},
          "execution_count": 8
        }
      ]
    },
    {
      "cell_type": "code",
      "source": [
        "# поскольку 0 больше, чем 1, то базовое решение будет 1 - среднее значение целевой метрики\n",
        "1 - y.mean()"
      ],
      "metadata": {
        "colab": {
          "base_uri": "https://localhost:8080/"
        },
        "id": "v2rYLEXeRyBo",
        "outputId": "22449367-1a81-4391-95ec-e9f73a8b2b79"
      },
      "execution_count": null,
      "outputs": [
        {
          "output_type": "execute_result",
          "data": {
            "text/plain": [
              "0.93316"
            ]
          },
          "metadata": {},
          "execution_count": 9
        }
      ]
    },
    {
      "cell_type": "code",
      "source": [
        "69987 / (69987 + 5013)"
      ],
      "metadata": {
        "colab": {
          "base_uri": "https://localhost:8080/"
        },
        "id": "cKVjpSw6TXsx",
        "outputId": "1c916ff8-403b-421e-e30f-7a95d7880f6f"
      },
      "execution_count": null,
      "outputs": [
        {
          "output_type": "execute_result",
          "data": {
            "text/plain": [
              "0.93316"
            ]
          },
          "metadata": {},
          "execution_count": 10
        }
      ]
    },
    {
      "cell_type": "markdown",
      "source": [
        "- Какие выводы можно сделать?\n",
        "- Какое из значений метрики `accuracy` можно считать за базовое решение, которое будем пытаться побить?\n",
        "- Насколько нам подходит метрика accuracy? Какие знаете более подходящие метрики?"
      ],
      "metadata": {
        "id": "ITlyWesTHzRL"
      }
    },
    {
      "cell_type": "markdown",
      "source": [
        "**Ваши ответы здесь:**\n",
        "\n",
        "- Дисбаланс (перекос в сторону) классов в сторону класса  `0` - логично, что просрочки невыгодны клиентам, потому их явно будет меньше в данных, задача бинарной классификации;\n",
        "- 0.93316 - см. ячейку выше - фактически это `accuracy` классификатора, который показывает только метки `0`;\n",
        "- не подойдет, описано выше почему (классификатор, выдающий только `0` уже кажется неплохим, но это не так); из-за дисбаланса классов лучше всего взять `F1-score` (или по отдельности смотреть `precision` и `recall`), `Precision-Recall AUC`, `ROC-AUC`."
      ],
      "metadata": {
        "id": "xWItm40JILaY"
      }
    },
    {
      "cell_type": "markdown",
      "source": [
        "### Заполнение пропусков - 1 балл"
      ],
      "metadata": {
        "id": "BBa4m9_DIuec"
      }
    },
    {
      "cell_type": "markdown",
      "source": [
        "Продолжим предобработку данных. Посчитайте сколько пропусков в каждом из признаков:"
      ],
      "metadata": {
        "id": "8wHWj1TuIRlq"
      }
    },
    {
      "cell_type": "code",
      "execution_count": null,
      "metadata": {
        "id": "IQv3K6g1BXxw",
        "colab": {
          "base_uri": "https://localhost:8080/"
        },
        "outputId": "31fc34bc-726b-452f-97f2-2f4e9a6bc3fb"
      },
      "outputs": [
        {
          "output_type": "execute_result",
          "data": {
            "text/plain": [
              "(DIR                          0\n",
              " Age                          0\n",
              " NumLoans                     0\n",
              " NumRealEstateLoans           0\n",
              " NumDependents             1916\n",
              " Num30-59Delinquencies        0\n",
              " Num60-89Delinquencies        0\n",
              " Income                   14847\n",
              " BalanceToCreditLimit         0\n",
              " dtype: int64,\n",
              " 0)"
            ]
          },
          "metadata": {},
          "execution_count": 11
        }
      ],
      "source": [
        "# ваш код здесь\n",
        "X.isna().sum(), y.isna().sum()"
      ]
    },
    {
      "cell_type": "markdown",
      "metadata": {
        "id": "dtoBkFbPBXxw"
      },
      "source": [
        "Заполните пропуски медианными значениями:"
      ]
    },
    {
      "cell_type": "code",
      "execution_count": null,
      "metadata": {
        "id": "DboZ3O6bBXxw"
      },
      "outputs": [],
      "source": [
        "# ваш код здесь\n",
        "X.fillna(train_df.median(), inplace=True)"
      ]
    },
    {
      "cell_type": "markdown",
      "source": [
        "Проверьте еще раз количество оставшихся пропусков:"
      ],
      "metadata": {
        "id": "iccuomTTIlwk"
      }
    },
    {
      "cell_type": "code",
      "execution_count": null,
      "metadata": {
        "id": "k1YWtKwgBXxx",
        "colab": {
          "base_uri": "https://localhost:8080/"
        },
        "outputId": "42cc896f-e914-4f76-8f47-f6a4543ca21c"
      },
      "outputs": [
        {
          "output_type": "execute_result",
          "data": {
            "text/plain": [
              "(DIR                      0\n",
              " Age                      0\n",
              " NumLoans                 0\n",
              " NumRealEstateLoans       0\n",
              " NumDependents            0\n",
              " Num30-59Delinquencies    0\n",
              " Num60-89Delinquencies    0\n",
              " Income                   0\n",
              " BalanceToCreditLimit     0\n",
              " dtype: int64,\n",
              " 0)"
            ]
          },
          "metadata": {},
          "execution_count": 13
        }
      ],
      "source": [
        "# ваш код здесь - пропусков больше нет\n",
        "X.isna().sum(), y.isna().sum()"
      ]
    },
    {
      "cell_type": "markdown",
      "metadata": {
        "id": "5LnuGihVBXxx"
      },
      "source": [
        "### Нормировка - 1 балл"
      ]
    },
    {
      "cell_type": "markdown",
      "source": [
        "Выполним масштабирование наших признаков так, чтобы их значение находилось в диапазоне `[0, 1]`:"
      ],
      "metadata": {
        "id": "SHYSZxf5JByb"
      }
    },
    {
      "cell_type": "code",
      "execution_count": null,
      "metadata": {
        "id": "DbIeJ8v4BXxy",
        "colab": {
          "base_uri": "https://localhost:8080/",
          "height": 423
        },
        "outputId": "114c2973-105d-4d56-d5a4-6a244c36c6eb"
      },
      "outputs": [
        {
          "output_type": "execute_result",
          "data": {
            "text/plain": [
              "                DIR       Age  NumLoans  NumRealEstateLoans  NumDependents  \\\n",
              "0      1.300635e-01  0.226862  0.196429             0.18750           0.05   \n",
              "1      8.076215e-06  0.252822  0.178571             0.03125           0.15   \n",
              "2      1.012332e-01  0.341986  0.232143             0.06250           0.20   \n",
              "3      1.310377e-05  0.352144  0.321429             0.06250           0.15   \n",
              "4      1.323345e-07  0.554176  0.178571             0.00000           0.00   \n",
              "...             ...       ...       ...                 ...            ...   \n",
              "52495  3.771193e-06  0.125282  0.107143             0.00000           0.05   \n",
              "52496  4.135569e-07  0.620767  0.053571             0.00000           0.00   \n",
              "52497  1.149359e-05  0.372460  0.125000             0.03125           0.00   \n",
              "52498  2.928004e-06  0.444695  0.142857             0.06250           0.20   \n",
              "52499  6.443580e-06  0.523702  0.232143             0.06250           0.00   \n",
              "\n",
              "       Num30-59Delinquencies  Num60-89Delinquencies    Income  \\\n",
              "0                   0.000000                    0.0  0.003004   \n",
              "1                   0.000000                    0.0  0.003327   \n",
              "2                   0.010204                    0.0  0.003004   \n",
              "3                   0.000000                    0.0  0.006775   \n",
              "4                   0.000000                    0.0  0.005515   \n",
              "...                      ...                    ...       ...   \n",
              "52495               0.010204                    0.0  0.002792   \n",
              "52496               0.000000                    0.0  0.001672   \n",
              "52497               0.000000                    0.0  0.002892   \n",
              "52498               0.000000                    0.0  0.021988   \n",
              "52499               0.000000                    0.0  0.003256   \n",
              "\n",
              "       BalanceToCreditLimit  \n",
              "0              0.000000e+00  \n",
              "1              0.000000e+00  \n",
              "2              4.557681e-05  \n",
              "3              1.565118e-05  \n",
              "4              8.887895e-07  \n",
              "...                     ...  \n",
              "52495          2.883540e-05  \n",
              "52496          3.032618e-06  \n",
              "52497          2.370435e-05  \n",
              "52498          1.177965e-06  \n",
              "52499          3.948316e-06  \n",
              "\n",
              "[52500 rows x 9 columns]"
            ],
            "text/html": [
              "\n",
              "  <div id=\"df-ab78cc07-c052-4470-bf70-3dce349966e6\" class=\"colab-df-container\">\n",
              "    <div>\n",
              "<style scoped>\n",
              "    .dataframe tbody tr th:only-of-type {\n",
              "        vertical-align: middle;\n",
              "    }\n",
              "\n",
              "    .dataframe tbody tr th {\n",
              "        vertical-align: top;\n",
              "    }\n",
              "\n",
              "    .dataframe thead th {\n",
              "        text-align: right;\n",
              "    }\n",
              "</style>\n",
              "<table border=\"1\" class=\"dataframe\">\n",
              "  <thead>\n",
              "    <tr style=\"text-align: right;\">\n",
              "      <th></th>\n",
              "      <th>DIR</th>\n",
              "      <th>Age</th>\n",
              "      <th>NumLoans</th>\n",
              "      <th>NumRealEstateLoans</th>\n",
              "      <th>NumDependents</th>\n",
              "      <th>Num30-59Delinquencies</th>\n",
              "      <th>Num60-89Delinquencies</th>\n",
              "      <th>Income</th>\n",
              "      <th>BalanceToCreditLimit</th>\n",
              "    </tr>\n",
              "  </thead>\n",
              "  <tbody>\n",
              "    <tr>\n",
              "      <th>0</th>\n",
              "      <td>1.300635e-01</td>\n",
              "      <td>0.226862</td>\n",
              "      <td>0.196429</td>\n",
              "      <td>0.18750</td>\n",
              "      <td>0.05</td>\n",
              "      <td>0.000000</td>\n",
              "      <td>0.0</td>\n",
              "      <td>0.003004</td>\n",
              "      <td>0.000000e+00</td>\n",
              "    </tr>\n",
              "    <tr>\n",
              "      <th>1</th>\n",
              "      <td>8.076215e-06</td>\n",
              "      <td>0.252822</td>\n",
              "      <td>0.178571</td>\n",
              "      <td>0.03125</td>\n",
              "      <td>0.15</td>\n",
              "      <td>0.000000</td>\n",
              "      <td>0.0</td>\n",
              "      <td>0.003327</td>\n",
              "      <td>0.000000e+00</td>\n",
              "    </tr>\n",
              "    <tr>\n",
              "      <th>2</th>\n",
              "      <td>1.012332e-01</td>\n",
              "      <td>0.341986</td>\n",
              "      <td>0.232143</td>\n",
              "      <td>0.06250</td>\n",
              "      <td>0.20</td>\n",
              "      <td>0.010204</td>\n",
              "      <td>0.0</td>\n",
              "      <td>0.003004</td>\n",
              "      <td>4.557681e-05</td>\n",
              "    </tr>\n",
              "    <tr>\n",
              "      <th>3</th>\n",
              "      <td>1.310377e-05</td>\n",
              "      <td>0.352144</td>\n",
              "      <td>0.321429</td>\n",
              "      <td>0.06250</td>\n",
              "      <td>0.15</td>\n",
              "      <td>0.000000</td>\n",
              "      <td>0.0</td>\n",
              "      <td>0.006775</td>\n",
              "      <td>1.565118e-05</td>\n",
              "    </tr>\n",
              "    <tr>\n",
              "      <th>4</th>\n",
              "      <td>1.323345e-07</td>\n",
              "      <td>0.554176</td>\n",
              "      <td>0.178571</td>\n",
              "      <td>0.00000</td>\n",
              "      <td>0.00</td>\n",
              "      <td>0.000000</td>\n",
              "      <td>0.0</td>\n",
              "      <td>0.005515</td>\n",
              "      <td>8.887895e-07</td>\n",
              "    </tr>\n",
              "    <tr>\n",
              "      <th>...</th>\n",
              "      <td>...</td>\n",
              "      <td>...</td>\n",
              "      <td>...</td>\n",
              "      <td>...</td>\n",
              "      <td>...</td>\n",
              "      <td>...</td>\n",
              "      <td>...</td>\n",
              "      <td>...</td>\n",
              "      <td>...</td>\n",
              "    </tr>\n",
              "    <tr>\n",
              "      <th>52495</th>\n",
              "      <td>3.771193e-06</td>\n",
              "      <td>0.125282</td>\n",
              "      <td>0.107143</td>\n",
              "      <td>0.00000</td>\n",
              "      <td>0.05</td>\n",
              "      <td>0.010204</td>\n",
              "      <td>0.0</td>\n",
              "      <td>0.002792</td>\n",
              "      <td>2.883540e-05</td>\n",
              "    </tr>\n",
              "    <tr>\n",
              "      <th>52496</th>\n",
              "      <td>4.135569e-07</td>\n",
              "      <td>0.620767</td>\n",
              "      <td>0.053571</td>\n",
              "      <td>0.00000</td>\n",
              "      <td>0.00</td>\n",
              "      <td>0.000000</td>\n",
              "      <td>0.0</td>\n",
              "      <td>0.001672</td>\n",
              "      <td>3.032618e-06</td>\n",
              "    </tr>\n",
              "    <tr>\n",
              "      <th>52497</th>\n",
              "      <td>1.149359e-05</td>\n",
              "      <td>0.372460</td>\n",
              "      <td>0.125000</td>\n",
              "      <td>0.03125</td>\n",
              "      <td>0.00</td>\n",
              "      <td>0.000000</td>\n",
              "      <td>0.0</td>\n",
              "      <td>0.002892</td>\n",
              "      <td>2.370435e-05</td>\n",
              "    </tr>\n",
              "    <tr>\n",
              "      <th>52498</th>\n",
              "      <td>2.928004e-06</td>\n",
              "      <td>0.444695</td>\n",
              "      <td>0.142857</td>\n",
              "      <td>0.06250</td>\n",
              "      <td>0.20</td>\n",
              "      <td>0.000000</td>\n",
              "      <td>0.0</td>\n",
              "      <td>0.021988</td>\n",
              "      <td>1.177965e-06</td>\n",
              "    </tr>\n",
              "    <tr>\n",
              "      <th>52499</th>\n",
              "      <td>6.443580e-06</td>\n",
              "      <td>0.523702</td>\n",
              "      <td>0.232143</td>\n",
              "      <td>0.06250</td>\n",
              "      <td>0.00</td>\n",
              "      <td>0.000000</td>\n",
              "      <td>0.0</td>\n",
              "      <td>0.003256</td>\n",
              "      <td>3.948316e-06</td>\n",
              "    </tr>\n",
              "  </tbody>\n",
              "</table>\n",
              "<p>52500 rows × 9 columns</p>\n",
              "</div>\n",
              "    <div class=\"colab-df-buttons\">\n",
              "\n",
              "  <div class=\"colab-df-container\">\n",
              "    <button class=\"colab-df-convert\" onclick=\"convertToInteractive('df-ab78cc07-c052-4470-bf70-3dce349966e6')\"\n",
              "            title=\"Convert this dataframe to an interactive table.\"\n",
              "            style=\"display:none;\">\n",
              "\n",
              "  <svg xmlns=\"http://www.w3.org/2000/svg\" height=\"24px\" viewBox=\"0 -960 960 960\">\n",
              "    <path d=\"M120-120v-720h720v720H120Zm60-500h600v-160H180v160Zm220 220h160v-160H400v160Zm0 220h160v-160H400v160ZM180-400h160v-160H180v160Zm440 0h160v-160H620v160ZM180-180h160v-160H180v160Zm440 0h160v-160H620v160Z\"/>\n",
              "  </svg>\n",
              "    </button>\n",
              "\n",
              "  <style>\n",
              "    .colab-df-container {\n",
              "      display:flex;\n",
              "      gap: 12px;\n",
              "    }\n",
              "\n",
              "    .colab-df-convert {\n",
              "      background-color: #E8F0FE;\n",
              "      border: none;\n",
              "      border-radius: 50%;\n",
              "      cursor: pointer;\n",
              "      display: none;\n",
              "      fill: #1967D2;\n",
              "      height: 32px;\n",
              "      padding: 0 0 0 0;\n",
              "      width: 32px;\n",
              "    }\n",
              "\n",
              "    .colab-df-convert:hover {\n",
              "      background-color: #E2EBFA;\n",
              "      box-shadow: 0px 1px 2px rgba(60, 64, 67, 0.3), 0px 1px 3px 1px rgba(60, 64, 67, 0.15);\n",
              "      fill: #174EA6;\n",
              "    }\n",
              "\n",
              "    .colab-df-buttons div {\n",
              "      margin-bottom: 4px;\n",
              "    }\n",
              "\n",
              "    [theme=dark] .colab-df-convert {\n",
              "      background-color: #3B4455;\n",
              "      fill: #D2E3FC;\n",
              "    }\n",
              "\n",
              "    [theme=dark] .colab-df-convert:hover {\n",
              "      background-color: #434B5C;\n",
              "      box-shadow: 0px 1px 3px 1px rgba(0, 0, 0, 0.15);\n",
              "      filter: drop-shadow(0px 1px 2px rgba(0, 0, 0, 0.3));\n",
              "      fill: #FFFFFF;\n",
              "    }\n",
              "  </style>\n",
              "\n",
              "    <script>\n",
              "      const buttonEl =\n",
              "        document.querySelector('#df-ab78cc07-c052-4470-bf70-3dce349966e6 button.colab-df-convert');\n",
              "      buttonEl.style.display =\n",
              "        google.colab.kernel.accessAllowed ? 'block' : 'none';\n",
              "\n",
              "      async function convertToInteractive(key) {\n",
              "        const element = document.querySelector('#df-ab78cc07-c052-4470-bf70-3dce349966e6');\n",
              "        const dataTable =\n",
              "          await google.colab.kernel.invokeFunction('convertToInteractive',\n",
              "                                                    [key], {});\n",
              "        if (!dataTable) return;\n",
              "\n",
              "        const docLinkHtml = 'Like what you see? Visit the ' +\n",
              "          '<a target=\"_blank\" href=https://colab.research.google.com/notebooks/data_table.ipynb>data table notebook</a>'\n",
              "          + ' to learn more about interactive tables.';\n",
              "        element.innerHTML = '';\n",
              "        dataTable['output_type'] = 'display_data';\n",
              "        await google.colab.output.renderOutput(dataTable, element);\n",
              "        const docLink = document.createElement('div');\n",
              "        docLink.innerHTML = docLinkHtml;\n",
              "        element.appendChild(docLink);\n",
              "      }\n",
              "    </script>\n",
              "  </div>\n",
              "\n",
              "\n",
              "<div id=\"df-88475909-6ba9-42b3-ae2e-3b669928385e\">\n",
              "  <button class=\"colab-df-quickchart\" onclick=\"quickchart('df-88475909-6ba9-42b3-ae2e-3b669928385e')\"\n",
              "            title=\"Suggest charts\"\n",
              "            style=\"display:none;\">\n",
              "\n",
              "<svg xmlns=\"http://www.w3.org/2000/svg\" height=\"24px\"viewBox=\"0 0 24 24\"\n",
              "     width=\"24px\">\n",
              "    <g>\n",
              "        <path d=\"M19 3H5c-1.1 0-2 .9-2 2v14c0 1.1.9 2 2 2h14c1.1 0 2-.9 2-2V5c0-1.1-.9-2-2-2zM9 17H7v-7h2v7zm4 0h-2V7h2v10zm4 0h-2v-4h2v4z\"/>\n",
              "    </g>\n",
              "</svg>\n",
              "  </button>\n",
              "\n",
              "<style>\n",
              "  .colab-df-quickchart {\n",
              "      --bg-color: #E8F0FE;\n",
              "      --fill-color: #1967D2;\n",
              "      --hover-bg-color: #E2EBFA;\n",
              "      --hover-fill-color: #174EA6;\n",
              "      --disabled-fill-color: #AAA;\n",
              "      --disabled-bg-color: #DDD;\n",
              "  }\n",
              "\n",
              "  [theme=dark] .colab-df-quickchart {\n",
              "      --bg-color: #3B4455;\n",
              "      --fill-color: #D2E3FC;\n",
              "      --hover-bg-color: #434B5C;\n",
              "      --hover-fill-color: #FFFFFF;\n",
              "      --disabled-bg-color: #3B4455;\n",
              "      --disabled-fill-color: #666;\n",
              "  }\n",
              "\n",
              "  .colab-df-quickchart {\n",
              "    background-color: var(--bg-color);\n",
              "    border: none;\n",
              "    border-radius: 50%;\n",
              "    cursor: pointer;\n",
              "    display: none;\n",
              "    fill: var(--fill-color);\n",
              "    height: 32px;\n",
              "    padding: 0;\n",
              "    width: 32px;\n",
              "  }\n",
              "\n",
              "  .colab-df-quickchart:hover {\n",
              "    background-color: var(--hover-bg-color);\n",
              "    box-shadow: 0 1px 2px rgba(60, 64, 67, 0.3), 0 1px 3px 1px rgba(60, 64, 67, 0.15);\n",
              "    fill: var(--button-hover-fill-color);\n",
              "  }\n",
              "\n",
              "  .colab-df-quickchart-complete:disabled,\n",
              "  .colab-df-quickchart-complete:disabled:hover {\n",
              "    background-color: var(--disabled-bg-color);\n",
              "    fill: var(--disabled-fill-color);\n",
              "    box-shadow: none;\n",
              "  }\n",
              "\n",
              "  .colab-df-spinner {\n",
              "    border: 2px solid var(--fill-color);\n",
              "    border-color: transparent;\n",
              "    border-bottom-color: var(--fill-color);\n",
              "    animation:\n",
              "      spin 1s steps(1) infinite;\n",
              "  }\n",
              "\n",
              "  @keyframes spin {\n",
              "    0% {\n",
              "      border-color: transparent;\n",
              "      border-bottom-color: var(--fill-color);\n",
              "      border-left-color: var(--fill-color);\n",
              "    }\n",
              "    20% {\n",
              "      border-color: transparent;\n",
              "      border-left-color: var(--fill-color);\n",
              "      border-top-color: var(--fill-color);\n",
              "    }\n",
              "    30% {\n",
              "      border-color: transparent;\n",
              "      border-left-color: var(--fill-color);\n",
              "      border-top-color: var(--fill-color);\n",
              "      border-right-color: var(--fill-color);\n",
              "    }\n",
              "    40% {\n",
              "      border-color: transparent;\n",
              "      border-right-color: var(--fill-color);\n",
              "      border-top-color: var(--fill-color);\n",
              "    }\n",
              "    60% {\n",
              "      border-color: transparent;\n",
              "      border-right-color: var(--fill-color);\n",
              "    }\n",
              "    80% {\n",
              "      border-color: transparent;\n",
              "      border-right-color: var(--fill-color);\n",
              "      border-bottom-color: var(--fill-color);\n",
              "    }\n",
              "    90% {\n",
              "      border-color: transparent;\n",
              "      border-bottom-color: var(--fill-color);\n",
              "    }\n",
              "  }\n",
              "</style>\n",
              "\n",
              "  <script>\n",
              "    async function quickchart(key) {\n",
              "      const quickchartButtonEl =\n",
              "        document.querySelector('#' + key + ' button');\n",
              "      quickchartButtonEl.disabled = true;  // To prevent multiple clicks.\n",
              "      quickchartButtonEl.classList.add('colab-df-spinner');\n",
              "      try {\n",
              "        const charts = await google.colab.kernel.invokeFunction(\n",
              "            'suggestCharts', [key], {});\n",
              "      } catch (error) {\n",
              "        console.error('Error during call to suggestCharts:', error);\n",
              "      }\n",
              "      quickchartButtonEl.classList.remove('colab-df-spinner');\n",
              "      quickchartButtonEl.classList.add('colab-df-quickchart-complete');\n",
              "    }\n",
              "    (() => {\n",
              "      let quickchartButtonEl =\n",
              "        document.querySelector('#df-88475909-6ba9-42b3-ae2e-3b669928385e button');\n",
              "      quickchartButtonEl.style.display =\n",
              "        google.colab.kernel.accessAllowed ? 'block' : 'none';\n",
              "    })();\n",
              "  </script>\n",
              "</div>\n",
              "    </div>\n",
              "  </div>\n"
            ]
          },
          "metadata": {},
          "execution_count": 14
        }
      ],
      "source": [
        "# перед обучением следует разделить датасет на обучающую и валидационную части\n",
        "X_train, X_valid, y_train, y_valid = train_test_split(X, y, train_size=0.7, random_state=42, stratify=y)\n",
        "\n",
        "# импорт и инициализация класса MinMaxScaler\n",
        "from sklearn.preprocessing import MinMaxScaler\n",
        "scaler = MinMaxScaler()\n",
        "\n",
        "# трансформируйте все признаки, если затрудняетесь - посмотрите в документации sklearn\n",
        "# хорошая практика это fit_transform на train и transform на test\n",
        "X_train_scaled_df = scaler.fit_transform(X_train)\n",
        "X_valid_scaled_df = scaler.transform(X_valid)\n",
        "X_train_scaled_df = pd.DataFrame(X_train_scaled_df, columns = X.columns)\n",
        "X_valid_scaled_df = pd.DataFrame(X_valid_scaled_df, columns = X.columns)\n",
        "X_train_scaled_df"
      ]
    },
    {
      "cell_type": "markdown",
      "source": [
        "Удостоверьтесь, что теперь значения всех признаков находятся в диапазоне `[0,1]`:"
      ],
      "metadata": {
        "id": "NyiCzRjiJjET"
      }
    },
    {
      "cell_type": "code",
      "execution_count": null,
      "metadata": {
        "id": "v9WiWRvdBXxy",
        "colab": {
          "base_uri": "https://localhost:8080/"
        },
        "outputId": "e44f493d-6800-4ede-c5d1-4ae307f4d04c"
      },
      "outputs": [
        {
          "output_type": "execute_result",
          "data": {
            "text/plain": [
              "DIR                      100.0\n",
              "Age                      100.0\n",
              "NumLoans                 100.0\n",
              "NumRealEstateLoans       100.0\n",
              "NumDependents            100.0\n",
              "Num30-59Delinquencies    100.0\n",
              "Num60-89Delinquencies    100.0\n",
              "Income                   100.0\n",
              "BalanceToCreditLimit     100.0\n",
              "dtype: float64"
            ]
          },
          "metadata": {},
          "execution_count": 15
        }
      ],
      "source": [
        "# ваш код здесь - процент в каждой колонке, который подходит под условие нормировки (обучающая часть)\n",
        "X_train_scaled_df[(X_train_scaled_df >= 0) & (X_train_scaled_df <= 1)].count() * 100 / X_train_scaled_df.shape[0]"
      ]
    },
    {
      "cell_type": "code",
      "source": [
        "# ваш код здесь - процент в каждой колонке, который подходит под условие нормировки (валидационная часть) - часть из них может выходить из диапазона, потому что выходит вне диапазона X_train\n",
        "X_valid_scaled_df[(X_valid_scaled_df >= 0) & (X_valid_scaled_df <= 1)].count() * 100 / X_valid_scaled_df.shape[0]"
      ],
      "metadata": {
        "colab": {
          "base_uri": "https://localhost:8080/"
        },
        "id": "eCYLeX9xY5Jt",
        "outputId": "31c5dd9e-3102-49d1-885b-8e52b9375919"
      },
      "execution_count": null,
      "outputs": [
        {
          "output_type": "execute_result",
          "data": {
            "text/plain": [
              "DIR                       99.982222\n",
              "Age                       99.995556\n",
              "NumLoans                 100.000000\n",
              "NumRealEstateLoans       100.000000\n",
              "NumDependents            100.000000\n",
              "Num30-59Delinquencies    100.000000\n",
              "Num60-89Delinquencies    100.000000\n",
              "Income                   100.000000\n",
              "BalanceToCreditLimit      99.995556\n",
              "dtype: float64"
            ]
          },
          "metadata": {},
          "execution_count": 16
        }
      ]
    },
    {
      "cell_type": "markdown",
      "source": [
        "# Обучение моделей"
      ],
      "metadata": {
        "id": "Q2TDAIUpJuqs"
      }
    },
    {
      "cell_type": "markdown",
      "metadata": {
        "id": "7g813UqqBXxz"
      },
      "source": [
        "## Дерево решений - 2 балла"
      ]
    },
    {
      "cell_type": "markdown",
      "source": [
        "Обучите решающее дерево, значения гиперпараметров выберите на ваш вкус, подбирать их не нужно:"
      ],
      "metadata": {
        "id": "f56eqFsZJ37x"
      }
    },
    {
      "cell_type": "code",
      "execution_count": null,
      "metadata": {
        "id": "nDgfCvWLBXxz"
      },
      "outputs": [],
      "source": [
        "from sklearn.tree import DecisionTreeClassifier\n",
        "\n",
        "# ваш код здесь\n",
        "dt = DecisionTreeClassifier(criterion='gini', splitter='best', max_depth=3, min_samples_split=2, min_samples_leaf=2, random_state=17)\n",
        "dt.fit(X_train, y_train)\n",
        "y_train_pred, y_valid_pred = dt.predict(X_train), dt.predict(X_valid)\n",
        "y_train_pred_proba, y_valid_pred_proba = dt.predict_proba(X_train), dt.predict_proba(X_valid)"
      ]
    },
    {
      "cell_type": "markdown",
      "source": [
        "Получите предсказания вашей модели и проверьте как она обучилась с помощью метрик `f1_score`, `accuracy_score`, `roc_auc_score`, `mean_squared_error`:"
      ],
      "metadata": {
        "id": "YenXpEVRKM2k"
      }
    },
    {
      "cell_type": "code",
      "execution_count": null,
      "metadata": {
        "id": "cMvhaTjcBXxz",
        "colab": {
          "base_uri": "https://localhost:8080/"
        },
        "outputId": "37f453e3-7944-4c6e-ba1b-0e9b4ac29a2d"
      },
      "outputs": [
        {
          "output_type": "stream",
          "name": "stdout",
          "text": [
            "F1-score на валидационной части : 0.08850645359557469\n",
            "Accuracy на валидационной части : 0.9340888888888889\n",
            "ROC-AUC score на валидационной части : 0.7930534450837646\n",
            "MSE на валидационной части (?) : 0.06591111111111111\n"
          ]
        }
      ],
      "source": [
        "from sklearn import metrics\n",
        "\n",
        "# ваш код здесь\n",
        "print(f'F1-score на валидационной части : {metrics.f1_score(y_true=y_valid, y_pred=y_valid_pred)}')\n",
        "print(f'Accuracy на валидационной части : {metrics.accuracy_score(y_true=y_valid, y_pred=y_valid_pred)}')\n",
        "print(f'ROC-AUC score на валидационной части : {metrics.roc_auc_score(y_true=y_valid, y_score=y_valid_pred_proba[:, 1])}')\n",
        "print(f'MSE на валидационной части (?) : {metrics.mean_squared_error(y_true=y_valid, y_pred=y_valid_pred)}')"
      ]
    },
    {
      "cell_type": "markdown",
      "source": [
        "Проверьте, не переобучились ли вы - сравните значения метрик на обучающей и валидационной выборках:"
      ],
      "metadata": {
        "id": "202vl3KTKkOF"
      }
    },
    {
      "cell_type": "code",
      "source": [
        "# ваш код здесь - в целом метрики выше на обучающей части незначительно выше, но говорить что модель сильно переобучена нельзя\n",
        "print(f'F1-score на обучающей части : {metrics.f1_score(y_true=y_train, y_pred=y_train_pred)}')\n",
        "print(f'Accuracy на обучающей части : {metrics.accuracy_score(y_true=y_train, y_pred=y_train_pred)}')\n",
        "print(f'ROC-AUC score на обучающей части : {metrics.roc_auc_score(y_true=y_train, y_score=y_train_pred_proba[:, 1])}')\n",
        "print(f'MSE на обучающей части (?) : {metrics.mean_squared_error(y_true=y_train, y_pred=y_train_pred)}')"
      ],
      "metadata": {
        "id": "-QxG-eH6LqP4",
        "colab": {
          "base_uri": "https://localhost:8080/"
        },
        "outputId": "e1974a1c-dd30-40b7-c156-0bc6f772cdfe"
      },
      "execution_count": null,
      "outputs": [
        {
          "output_type": "stream",
          "name": "stdout",
          "text": [
            "F1-score на обучающей части : 0.08879492600422834\n",
            "Accuracy на обучающей части : 0.9343238095238096\n",
            "ROC-AUC score на обучающей части : 0.8058317473576012\n",
            "MSE на обучающей части (?) : 0.06567619047619047\n"
          ]
        }
      ]
    },
    {
      "cell_type": "markdown",
      "metadata": {
        "id": "DF5l89C9BXx2"
      },
      "source": [
        "## Дерево решений + `GridSearch` - 2 балла"
      ]
    },
    {
      "cell_type": "markdown",
      "source": [
        "Выберите 2 гиперпараметра и по 3-5 значений для каждого из них:"
      ],
      "metadata": {
        "id": "2N6XUHcXKy92"
      }
    },
    {
      "cell_type": "code",
      "execution_count": null,
      "metadata": {
        "id": "S1xuQl2OBXx2",
        "colab": {
          "base_uri": "https://localhost:8080/"
        },
        "outputId": "f9cd1d99-b464-4f0f-e4a8-896157779e43"
      },
      "outputs": [
        {
          "output_type": "stream",
          "name": "stdout",
          "text": [
            "F1-score на обучающей части : 0.1671583087512291\n",
            "F1-score на валидационной части : 0.14857142857142858\n",
            "---------------------------------------------------------------------------\n",
            "Accuracy на обучающей части : 0.936247619047619\n",
            "Accuracy на валидационной части : 0.9334222222222223\n",
            "---------------------------------------------------------------------------\n",
            "ROC-AUC на обучающей части : 0.8058317473576012\n",
            "ROC-AUC на валидационной части : 0.7930534450837646\n",
            "---------------------------------------------------------------------------\n",
            "MSE на обучающей части (?): 0.06567619047619047\n",
            "ROC-AUC на валидационной части (?): 0.06591111111111111\n",
            "---------------------------------------------------------------------------\n"
          ]
        }
      ],
      "source": [
        "from sklearn.model_selection import GridSearchCV\n",
        "\n",
        "# ваш код здесь - для каждой из метрик лучше обучить свой классификатор, потому что есть параметр scoring\n",
        "param_grid = {'criterion': ['gini', 'entropy', 'log_loss'], 'splitter': ['best', 'random'], 'max_depth': np.arange(1, 6),\n",
        "              'min_samples_split': np.arange(1, 5), 'min_samples_leaf': np.arange(1, 4)}\n",
        "\n",
        "# все estimators (поскольку по умолчанию refit=True, то нет смысла брать best_estimator для обучения на всей тестовой части - GridSearchCV сделает это автоматически)\n",
        "f1_clf = GridSearchCV(estimator=dt, param_grid=param_grid, cv=5, scoring='f1')\n",
        "acurracy_clf = GridSearchCV(estimator=dt, param_grid=param_grid, cv=5, scoring='accuracy')\n",
        "roc_auc_clf = GridSearchCV(estimator=dt, param_grid=param_grid, cv=5, scoring='roc_auc')\n",
        "mse_clf = GridSearchCV(estimator=dt, param_grid=param_grid, cv=5, scoring='neg_mean_squared_error')\n",
        "\n",
        "\n",
        "for i_estimator in [f1_clf, acurracy_clf, roc_auc_clf, mse_clf]:\n",
        "    i_estimator.fit(X_train, y_train)\n",
        "    y_f1_train_pred, y_f1_valid_pred = i_estimator.predict(X_train), i_estimator.predict(X_valid)\n",
        "    y_f1_train_pred_proba, y_f1_valid_pred_proba = i_estimator.predict_proba(X_train), i_estimator.predict_proba(X_valid)\n",
        "\n",
        "    if i_estimator == f1_clf:\n",
        "        print(f'F1-score на обучающей части : {metrics.f1_score(y_true=y_train, y_pred=y_f1_train_pred)}')\n",
        "        print(f'F1-score на валидационной части : {metrics.f1_score(y_true=y_valid, y_pred=y_f1_valid_pred)}')\n",
        "        print('-' * 75)\n",
        "    elif i_estimator == acurracy_clf:\n",
        "        print(f'Accuracy на обучающей части : {metrics.accuracy_score(y_true=y_train, y_pred=y_f1_train_pred)}')\n",
        "        print(f'Accuracy на валидационной части : {metrics.accuracy_score(y_true=y_valid, y_pred=y_f1_valid_pred)}')\n",
        "        print('-' * 75)\n",
        "    elif i_estimator == roc_auc_clf:\n",
        "        print(f'ROC-AUC на обучающей части : {metrics.roc_auc_score(y_true=y_train, y_score=y_train_pred_proba[:, 1])}')\n",
        "        print(f'ROC-AUC на валидационной части : {metrics.roc_auc_score(y_true=y_valid, y_score=y_valid_pred_proba[:, 1])}')\n",
        "        print('-' * 75)\n",
        "    else:\n",
        "        print(f'MSE на обучающей части (?): {metrics.mean_squared_error(y_true=y_train, y_pred=y_train_pred)}')\n",
        "        print(f'ROC-AUC на валидационной части (?): {metrics.mean_squared_error(y_true=y_valid, y_pred=y_valid_pred)}')\n",
        "        print('-' * 75)"
      ]
    },
    {
      "cell_type": "markdown",
      "source": [
        "Сравните значения метрик. Какой получили прирост?"
      ],
      "metadata": {
        "id": "8_F2QYmLLE9W"
      }
    },
    {
      "cell_type": "markdown",
      "source": [
        "Наибольший прирост метрик виден в метрике `F1-score`. В остальных метриках прирост если и наблюдается, то он незначительный (метрика `MSE` для классификации не является целевой, `accuracy` из-за дисбаланса классов не может получить значительный прирост, `ROC-AUC` полностью совпал как на обучающей, так и на валидационной частях)."
      ],
      "metadata": {
        "id": "xtLV2Z53iGk0"
      }
    },
    {
      "cell_type": "markdown",
      "source": [
        "## Случайный лес - 2 балла"
      ],
      "metadata": {
        "id": "01VQQQ0cLQEn"
      }
    },
    {
      "cell_type": "markdown",
      "source": [
        "Обучите модель случайного леса:"
      ],
      "metadata": {
        "id": "77EVsfUQLsR3"
      }
    },
    {
      "cell_type": "code",
      "source": [
        "from sklearn.ensemble import RandomForestClassifier\n",
        "\n",
        "# ваш код здесь\n",
        "rf = RandomForestClassifier(n_estimators=500, criterion='gini', max_features='sqrt', max_depth=5, min_samples_split=2, min_samples_leaf=1, random_state=17)\n",
        "rf.fit(X_train, y_train)\n",
        "y_train_pred, y_valid_pred = rf.predict(X_train), rf.predict(X_valid)\n",
        "y_train_pred_proba, y_valid_pred_proba = rf.predict_proba(X_train), rf.predict_proba(X_valid)"
      ],
      "metadata": {
        "id": "DeelnF8RLvRN"
      },
      "execution_count": null,
      "outputs": []
    },
    {
      "cell_type": "markdown",
      "source": [
        "Аналогично, посчитайте значение метрик:"
      ],
      "metadata": {
        "id": "gqqsWfFJL8yI"
      }
    },
    {
      "cell_type": "code",
      "source": [
        "# ваш код здесь\n",
        "print(f'F1-score на валидационной части : {metrics.f1_score(y_true=y_valid, y_pred=y_valid_pred)}')\n",
        "print(f'Accuracy на валидационной части : {metrics.accuracy_score(y_true=y_valid, y_pred=y_valid_pred)}')\n",
        "print(f'ROC-AUC score на валидационной части : {metrics.roc_auc_score(y_true=y_valid, y_score=y_valid_pred_proba[:, 1])}')\n",
        "print(f'MSE на валидационной части (?) : {metrics.mean_squared_error(y_true=y_valid, y_pred=y_valid_pred)}')"
      ],
      "metadata": {
        "id": "Ypim29_cL_A-",
        "colab": {
          "base_uri": "https://localhost:8080/"
        },
        "outputId": "98918af6-1082-4a36-b1b0-6bca3b231725"
      },
      "execution_count": null,
      "outputs": [
        {
          "output_type": "stream",
          "name": "stdout",
          "text": [
            "F1-score на валидационной части : 0.09102244389027431\n",
            "Accuracy на валидационной части : 0.9352\n",
            "ROC-AUC score на валидационной части : 0.8323510455892308\n",
            "MSE на валидационной части (?) : 0.0648\n"
          ]
        }
      ]
    },
    {
      "cell_type": "markdown",
      "source": [
        "И проверьте на переобучение:"
      ],
      "metadata": {
        "id": "R6er3daxL_d4"
      }
    },
    {
      "cell_type": "code",
      "source": [
        "# ваш код здесь - в целом метрики выше на обучающей части выше, модель можно считать переобученной, что для одного дерева логично\n",
        "print(f'F1-score на обучающей части : {metrics.f1_score(y_true=y_train, y_pred=y_train_pred)}')\n",
        "print(f'Accuracy на обучающей части : {metrics.accuracy_score(y_true=y_train, y_pred=y_train_pred)}')\n",
        "print(f'ROC-AUC score на обучающей части : {metrics.roc_auc_score(y_true=y_train, y_score=y_train_pred_proba[:, 1])}')\n",
        "print(f'MSE на обучающей части (?) : {metrics.mean_squared_error(y_true=y_train, y_pred=y_train_pred)}')"
      ],
      "metadata": {
        "id": "rSy-m4CNMA1T",
        "colab": {
          "base_uri": "https://localhost:8080/"
        },
        "outputId": "285aac20-8ece-4970-d720-ad5109bf0dab"
      },
      "execution_count": null,
      "outputs": [
        {
          "output_type": "stream",
          "name": "stdout",
          "text": [
            "F1-score на обучающей части : 0.10543046357615894\n",
            "Accuracy на обучающей части : 0.9356761904761904\n",
            "ROC-AUC score на обучающей части : 0.8522513853647542\n",
            "MSE на обучающей части (?) : 0.06432380952380952\n"
          ]
        }
      ]
    },
    {
      "cell_type": "markdown",
      "source": [
        "Какие выводы можем сделать при сравнении случайного леса и одного решающего дерева?"
      ],
      "metadata": {
        "id": "C7OKSEFIMWWU"
      }
    },
    {
      "cell_type": "markdown",
      "source": [
        "**Ваш ответ здесь:**\n",
        "\n",
        "Обучение рандомного леса выдаст лучшие метрики при предсказании, нежели при обучении одного случайного дерева (что в принципе логично). Более того, предсказание случайного леса без подбора гиперпараметров может показать лучшие или схожие метрики при предсказании дерева решений с их подбором (в нашем случае лучше всего смотреть на `ROC-AUC score`, хоть есть и проигрыш в `F1-score`). В теории, мы должны были заметить меньшее переобучение, однако на данном примере это не столь сильно заметно."
      ],
      "metadata": {
        "id": "zNFBd8NAMdKo"
      }
    },
    {
      "cell_type": "markdown",
      "source": [
        "## Градиентный бустинг - 2 балла"
      ],
      "metadata": {
        "id": "YEwx7hAUMC7U"
      }
    },
    {
      "cell_type": "markdown",
      "source": [
        "С помощью библиотеки LightGBM обучим градиентный бустинг на решающих деревьях:"
      ],
      "metadata": {
        "id": "bdben5_fMiuX"
      }
    },
    {
      "cell_type": "code",
      "source": [
        "from lightgbm import LGBMClassifier\n",
        "\n",
        "# ваш код здесь\n",
        "lgmb_clf = LGBMClassifier(boosting_type='gbdt', num_leaves=10,\n",
        "                          max_depth=5, learning_rate=0.1, n_estimators=50, force_row_wise=True)\n",
        "lgmb_clf.fit(X_train, y_train)\n",
        "\n",
        "y_train_pred, y_valid_pred = lgmb_clf.predict(X_train), lgmb_clf.predict(X_valid)\n",
        "y_train_pred_proba, y_valid_pred_proba = lgmb_clf.predict_proba(X_train), lgmb_clf.predict_proba(X_valid)"
      ],
      "metadata": {
        "id": "qVBL1N7_ME4z",
        "colab": {
          "base_uri": "https://localhost:8080/"
        },
        "outputId": "e5a81f24-0fdc-47d2-cb9d-8162c303cdc3"
      },
      "execution_count": null,
      "outputs": [
        {
          "output_type": "stream",
          "name": "stdout",
          "text": [
            "[LightGBM] [Info] Number of positive: 3509, number of negative: 48991\n",
            "[LightGBM] [Info] Total Bins 1116\n",
            "[LightGBM] [Info] Number of data points in the train set: 52500, number of used features: 9\n",
            "[LightGBM] [Info] [binary:BoostFromScore]: pavg=0.066838 -> initscore=-2.636306\n",
            "[LightGBM] [Info] Start training from score -2.636306\n"
          ]
        }
      ]
    },
    {
      "cell_type": "markdown",
      "source": [
        "Аналогично, посмотрим на метрики:"
      ],
      "metadata": {
        "id": "RX56JnQaNJDS"
      }
    },
    {
      "cell_type": "code",
      "source": [
        "# ваш код здесь\n",
        "print(f'F1-score на обучающей части : {metrics.f1_score(y_true=y_train, y_pred=y_train_pred)}')\n",
        "print(f'Accuracy на обучающей части : {metrics.accuracy_score(y_true=y_train, y_pred=y_train_pred)}')\n",
        "print(f'ROC-AUC score на обучающей части : {metrics.roc_auc_score(y_true=y_train, y_score=y_train_pred_proba[:, 1])}')\n",
        "print(f'MSE на обучающей части (?) : {metrics.mean_squared_error(y_true=y_train, y_pred=y_train_pred)}')\n",
        "print('-' * 75)\n",
        "print(f'F1-score на валидационной части : {metrics.f1_score(y_true=y_valid, y_pred=y_valid_pred)}')\n",
        "print(f'Accuracy на валидационной части : {metrics.accuracy_score(y_true=y_valid, y_pred=y_valid_pred)}')\n",
        "print(f'ROC-AUC score на валидационной части : {metrics.roc_auc_score(y_true=y_valid, y_score=y_valid_pred_proba[:, 1])}')\n",
        "print(f'MSE на валидационной части (?) : {metrics.mean_squared_error(y_true=y_valid, y_pred=y_valid_pred)}')"
      ],
      "metadata": {
        "id": "-ca9pq4CNGTF",
        "colab": {
          "base_uri": "https://localhost:8080/"
        },
        "outputId": "1187780d-bb7f-471e-c4b9-fbde11df21e0"
      },
      "execution_count": null,
      "outputs": [
        {
          "output_type": "stream",
          "name": "stdout",
          "text": [
            "F1-score на обучающей части : 0.2045400238948626\n",
            "Accuracy на обучающей части : 0.9365904761904762\n",
            "ROC-AUC score на обучающей части : 0.8608352780251092\n",
            "MSE на обучающей части (?) : 0.0634095238095238\n",
            "---------------------------------------------------------------------------\n",
            "F1-score на валидационной части : 0.2007764836383805\n",
            "Accuracy на валидационной части : 0.9359555555555555\n",
            "ROC-AUC score на валидационной части : 0.8374674425067794\n",
            "MSE на валидационной части (?) : 0.06404444444444445\n"
          ]
        }
      ]
    },
    {
      "cell_type": "markdown",
      "source": [
        "Какие выводы можем сделать при сравнении случайного леса и градиентного бустинга? Что заметили?"
      ],
      "metadata": {
        "id": "dTn1krGYNSLF"
      }
    },
    {
      "cell_type": "markdown",
      "source": [
        "**Ваш ответ здесь:**\n",
        "\n",
        "При простом подборе гиперпараметров `LightGBM` (или иного другого бустинга, без `GridSearch`) можно подобрать более \"хорошие\" метрики на предсказании, нежели дня случайного леса и тем более одного дерева решений. На примере видно, что ВСЕ метрики на тестовом и валидационном датасете достаточно близки, т.е. модель не переобучена. Более того, их абсолютные значения при обучении градиентного бустинга НЕ ХУЖЕ, чем для случайного леса.\n",
        "\n",
        "Из исследованных примеров: одно дерево (наравне с логистической регрессией) может служить `baseline`, случайный лес и градиентный бустинг следует сравнивать между собой (для <u>табличных данных</u> зачастую выигрывает бустинг, учитывая, что он может быть построен на этих самых деревьях или случайном лесе)."
      ],
      "metadata": {
        "id": "qL50Yr2kNSMA"
      }
    }
  ],
  "metadata": {
    "kernelspec": {
      "display_name": "Python 3",
      "language": "python",
      "name": "python3"
    },
    "language_info": {
      "codemirror_mode": {
        "name": "ipython",
        "version": 3
      },
      "file_extension": ".py",
      "mimetype": "text/x-python",
      "name": "python",
      "nbconvert_exporter": "python",
      "pygments_lexer": "ipython3",
      "version": "3.7.4"
    },
    "colab": {
      "provenance": [],
      "include_colab_link": true
    }
  },
  "nbformat": 4,
  "nbformat_minor": 0
}