{
  "nbformat": 4,
  "nbformat_minor": 0,
  "metadata": {
    "colab": {
      "provenance": [],
      "include_colab_link": true
    },
    "kernelspec": {
      "name": "python3",
      "display_name": "Python 3"
    },
    "language_info": {
      "name": "python"
    }
  },
  "cells": [
    {
      "cell_type": "markdown",
      "metadata": {
        "id": "view-in-github",
        "colab_type": "text"
      },
      "source": [
        "<a href=\"https://colab.research.google.com/github/SvgPrizrak/ML_Sber_Homework/blob/main/%D0%9A%D0%BE%D0%BF%D0%B8%D1%8F_%D0%B1%D0%BB%D0%BE%D0%BA%D0%BD%D0%BE%D1%82%D0%B0_%22hw01_basic_python%22.ipynb\" target=\"_parent\"><img src=\"https://colab.research.google.com/assets/colab-badge.svg\" alt=\"Open In Colab\"/></a>"
      ]
    },
    {
      "cell_type": "markdown",
      "source": [
        "# Домашнее задание №1. Обычный Python"
      ],
      "metadata": {
        "id": "eBHBcMcQFLFZ"
      }
    },
    {
      "cell_type": "markdown",
      "source": [
        "## Инструкция по отправке задания"
      ],
      "metadata": {
        "id": "raZct6Yj9_WW"
      }
    },
    {
      "cell_type": "markdown",
      "source": [
        "1. Создаете свою копию этого ноутбука:\n",
        "    \n",
        "    >Файл -> Создать копию на Диске\n",
        "2. Решаете задачи, заполняете вашу копию этого ноутбука\n",
        "3. Получаете ссылку с правами комментатора для вашей копии\n",
        "\n",
        "    >Поделиться -> Общий доступ -> Все, у кого есть ссылка -> Комментатор -> Копировать ссылку\n",
        "\n",
        "4. Заполняете [форму](https://docs.google.com/forms/d/e/1FAIpQLSd_4XO0-b1zX_o3inXssXdEojlBxW0imrRvtMLp8po2pQJNkg/viewform?usp=sf_link) и прикрепляете скопированную ссылку"
      ],
      "metadata": {
        "id": "YHoylOce-C8W"
      }
    },
    {
      "cell_type": "markdown",
      "source": [
        ">**Примечание:**\n",
        ">\n",
        ">Соблюдайте культуру кода, следуйте [PEP 8](https://pythonworld.ru/osnovy/pep-8-rukovodstvo-po-napisaniyu-koda-na-python.html)!"
      ],
      "metadata": {
        "id": "SpbrEScYAd0G"
      }
    },
    {
      "cell_type": "markdown",
      "metadata": {
        "id": "934dda1a"
      },
      "source": [
        "# Задача 1"
      ]
    },
    {
      "cell_type": "markdown",
      "source": [
        "Реализуйте функцию `is_prime`, проверяющую целое число n на простоту. Число является простым, если нацело делится лишь на 1 и на само себя."
      ],
      "metadata": {
        "id": "oYQTNvd3t6-v"
      }
    },
    {
      "cell_type": "code",
      "execution_count": null,
      "metadata": {
        "id": "03a316f8"
      },
      "outputs": [],
      "source": [
        "# первый вариант функции (не очень быстрый, но более краткий по коду)\n",
        "def is_prime(n):\n",
        "    \"\"\"Check if the number n is prime or not.\"\"\"\n",
        "    # your code here\n",
        "    if n > 1:\n",
        "        for i in range(2, n // 2 + 1):\n",
        "            if n % i == 0:\n",
        "                return False\n",
        "        return True\n",
        "    else:\n",
        "        return False"
      ]
    },
    {
      "cell_type": "code",
      "source": [
        "%timeit is_prime(10 ** 10)"
      ],
      "metadata": {
        "colab": {
          "base_uri": "https://localhost:8080/"
        },
        "id": "HkrKDiXjmSwX",
        "outputId": "3ab418b8-8efb-4d3e-c6af-89efbe8d4513"
      },
      "execution_count": null,
      "outputs": [
        {
          "output_type": "stream",
          "name": "stdout",
          "text": [
            "737 ns ± 313 ns per loop (mean ± std. dev. of 7 runs, 1000000 loops each)\n"
          ]
        }
      ]
    },
    {
      "cell_type": "code",
      "source": [
        "# второй вариант функции (намного быстрее предыдущего - раза в 3,5)\n",
        "def is_prime(n):\n",
        "    if n == 2:\n",
        "        return True\n",
        "    elif n % 2 == 0 or n < 2:\n",
        "        return False\n",
        "    else:\n",
        "        for i in range(3, int(n**0.5)+1, 2):\n",
        "            if n % i == 0:\n",
        "                return False\n",
        "\n",
        "    return True"
      ],
      "metadata": {
        "id": "ZZCwN47GmX4e"
      },
      "execution_count": null,
      "outputs": []
    },
    {
      "cell_type": "code",
      "source": [
        "%timeit is_prime(10 ** 10)"
      ],
      "metadata": {
        "colab": {
          "base_uri": "https://localhost:8080/"
        },
        "id": "85vTccsnmX6x",
        "outputId": "59b2b54f-c5a4-478d-8e26-eafe96a308f9"
      },
      "execution_count": null,
      "outputs": [
        {
          "output_type": "stream",
          "name": "stdout",
          "text": [
            "281 ns ± 182 ns per loop (mean ± std. dev. of 7 runs, 1000000 loops each)\n"
          ]
        }
      ]
    },
    {
      "cell_type": "markdown",
      "source": [
        "Проверить работоспособность можно на следующих тестах. Если ячейка выполнется корректно, то значит ваша функция работает корректно (но не факт, что написана качественно)."
      ],
      "metadata": {
        "id": "untnoAgZuLKD"
      }
    },
    {
      "cell_type": "code",
      "execution_count": null,
      "metadata": {
        "id": "3e6174db"
      },
      "outputs": [],
      "source": [
        "# tests\n",
        "assert is_prime(1) == False, 'test 1'\n",
        "assert is_prime(2) == True, 'test 2'\n",
        "assert is_prime(3) == True, 'test 3'\n",
        "assert is_prime(4) == False, 'test 4'\n",
        "assert is_prime(1013) == True, 'test 5'"
      ]
    },
    {
      "cell_type": "markdown",
      "metadata": {
        "id": "a5730e12"
      },
      "source": [
        "# Задача 2"
      ]
    },
    {
      "cell_type": "markdown",
      "metadata": {
        "id": "ff703047"
      },
      "source": [
        "Реализуйте функцию сортировки [методом слияния](https://neerc.ifmo.ru/wiki/index.php?title=%D0%A1%D0%BE%D1%80%D1%82%D0%B8%D1%80%D0%BE%D0%B2%D0%BA%D0%B0_%D1%81%D0%BB%D0%B8%D1%8F%D0%BD%D0%B8%D0%B5%D0%BC). Можете делать ее как рекурсивно, так и нерекурсивно (рекомендую сделать оба варианта для практики)."
      ]
    },
    {
      "cell_type": "code",
      "source": [
        "def merge_sort(x):\n",
        "    \"\"\"\n",
        "    Sorts list x using merge sort method\n",
        "    \"\"\"\n",
        "    # your code here\n",
        "\n",
        "    if len(x) > 1:\n",
        "        middle_of_array = len(x) // 2\n",
        "        left = x[:middle_of_array]\n",
        "        right = x[middle_of_array:]\n",
        "\n",
        "        # сортировка половин\n",
        "        merge_sort(left)\n",
        "        merge_sort(right)\n",
        "\n",
        "        # начальные значения указателей, которые мы используем, чтобы отслеживать, где мы находимся в каждом массиве\n",
        "        i = j = k = 0\n",
        "\n",
        "        # процесс сортировки - просматриваем половины списка\n",
        "        while i < len(left) and j < len(right):\n",
        "            if left[i] < right[j]:\n",
        "                x[k] = left[i]\n",
        "                i += 1\n",
        "            else:\n",
        "                x[k] = right[j]\n",
        "                j += 1\n",
        "            k += 1\n",
        "\n",
        "        while i < len(left):\n",
        "            x[k] = left[i]\n",
        "            i += 1\n",
        "            k += 1\n",
        "\n",
        "        while j < len(right):\n",
        "            x[k] = right[j]\n",
        "            j += 1\n",
        "            k += 1\n",
        "    return x"
      ],
      "metadata": {
        "id": "ScYOjy_XlECl"
      },
      "execution_count": null,
      "outputs": []
    },
    {
      "cell_type": "code",
      "execution_count": null,
      "metadata": {
        "id": "6711aef5"
      },
      "outputs": [],
      "source": [
        "# tests\n",
        "assert merge_sort([1, 2, 3, 4, 5, 6]) == [1, 2, 3, 4, 5, 6], \"test 1\"\n",
        "assert merge_sort([6, 1, 2, 3, 4, 5, 6]) == [1, 2, 3, 4, 5, 6, 6], \"test 2\"\n",
        "assert merge_sort([3,1,4,1,5,9,2,6,5,3,5]) == [1, 1, 2, 3, 3, 4, 5, 5, 5, 6, 9], \"test 3\""
      ]
    },
    {
      "cell_type": "markdown",
      "metadata": {
        "id": "f3d1e448"
      },
      "source": [
        "# Задача 3"
      ]
    },
    {
      "cell_type": "markdown",
      "source": [
        "Реализуйте **генератор**, возвращающий **бесконечную** последовательность чисел из [треугольника Паскаля](https://ru.wikipedia.org/wiki/%D0%A2%D1%80%D0%B5%D1%83%D0%B3%D0%BE%D0%BB%D1%8C%D0%BD%D0%B8%D0%BA_%D0%9F%D0%B0%D1%81%D0%BA%D0%B0%D0%BB%D1%8F).\n",
        "\n",
        "Последовательность, возвращаемая генератором, должна выглядеть так:\n",
        "`1 1 1 1 2 1 1 3 3 1 1 4 6 4 1 1 5 10 10 5 1 1 6 15 20 15 6 1 1 7 21 35 35 21 7 1 1 8 28 56 70 56 28 8 1 1 9 36 84 126 126 84 36 9 1 ...`.\n",
        "\n",
        "**Генератор должен быть экономным по памяти**, т.е. не хранить в себе все предыдущие вычисленные значения."
      ],
      "metadata": {
        "id": "PLSBRMf0w9bb"
      }
    },
    {
      "cell_type": "code",
      "source": [
        "# для функции импортируем модуль comb из библиотеки math (сочетания без повторений)\n",
        "from math import comb"
      ],
      "metadata": {
        "id": "Xe0f0tmmUFSc"
      },
      "execution_count": null,
      "outputs": []
    },
    {
      "cell_type": "code",
      "execution_count": null,
      "metadata": {
        "id": "25461272"
      },
      "outputs": [],
      "source": [
        "def pascal_triangle():\n",
        "    \"\"\"Return numbers from pascal triangle\"\"\"\n",
        "    # your code here\n",
        "\n",
        "    # начальная строка треугольника Паскаля и стартовое число треугольника Паскаля\n",
        "    start_row, start_number = 0, 1\n",
        "\n",
        "    # бесконечный цикл для перебора значений с учетом того, что каждое значение треугольника, это сочетание без повторений\n",
        "    while True:\n",
        "        for i in range(start_row, start_row+1):\n",
        "            for j in range(0, start_number):\n",
        "                yield comb(i, j)\n",
        "        start_row += 1\n",
        "        start_number += 1"
      ]
    },
    {
      "cell_type": "markdown",
      "source": [
        "Проверить можете на ячейке ниже:"
      ],
      "metadata": {
        "id": "SukiU_7DzmqO"
      }
    },
    {
      "cell_type": "code",
      "execution_count": null,
      "metadata": {
        "id": "428552b1"
      },
      "outputs": [],
      "source": [
        "pascal_string = \"1 1 1 1 2 1 1 3 3 1 1 4 6 4 1 1 5 10 10 5 1 1 6 15 20 15 6 1 1 7 21 35 35 21 7 1 1 8 28 56 70 56 28 8 1 1 9 36 84 126\"\n",
        "blez_pascal = pascal_triangle()\n",
        "assert [next(blez_pascal) for _ in range(50)] == list(map(int, pascal_string.split())), \"Wrong values!\""
      ]
    },
    {
      "cell_type": "markdown",
      "source": [
        "Еще раз подчеркну - нужен именно **генератор**:"
      ],
      "metadata": {
        "id": "gFt_A_iGzq2x"
      }
    },
    {
      "cell_type": "code",
      "source": [
        "from collections.abc import Generator\n",
        "\n",
        "assert isinstance(blez_pascal, Generator), \"You have created not a generator\""
      ],
      "metadata": {
        "id": "I7hEiDpEzunU"
      },
      "execution_count": null,
      "outputs": []
    },
    {
      "cell_type": "markdown",
      "metadata": {
        "id": "9270dbe5"
      },
      "source": [
        "# Задача 4"
      ]
    },
    {
      "cell_type": "markdown",
      "source": [
        "Написать **генераторную функцию** `limit(generator, max_count)`, который возвращает не более `max_count` значений генератора `input_generator`:"
      ],
      "metadata": {
        "id": "or5RM1GF0mHQ"
      }
    },
    {
      "cell_type": "code",
      "execution_count": null,
      "metadata": {
        "id": "0303a12f"
      },
      "outputs": [],
      "source": [
        "def limit(input_generator, max_count):\n",
        "    \"\"\"Returns not more than max_count\n",
        "    values of the input_generator.\n",
        "    \"\"\"\n",
        "    # your code here\n",
        "    # получим экзмепляр генератора для работы именно с ним\n",
        "    gen_instance = input_generator()\n",
        "\n",
        "    # создаем генератор с тем учетом, что число элементов в нем может быть меньше max_count, что вызовет ошибку StopIteration\n",
        "    output_generator = (next(gen_instance, None) for _ in range(max_count))\n",
        "    output_generator = (_ for _ in output_generator if _ is not None)\n",
        "    return output_generator"
      ]
    },
    {
      "cell_type": "code",
      "execution_count": null,
      "metadata": {
        "id": "f6511189"
      },
      "outputs": [],
      "source": [
        "# если pascal_triangle из предыдущего задания не реализован, то\n",
        "# напишите несколько своих тестов в этой ячейке\n",
        "# your code here"
      ]
    },
    {
      "cell_type": "code",
      "execution_count": null,
      "metadata": {
        "id": "dddc1199"
      },
      "outputs": [],
      "source": [
        "# tests\n",
        "assert list(limit(pascal_triangle, 5)) == [1, 1, 1, 1, 2]\n",
        "assert 499 < len(list(limit(pascal_triangle, 500))) < 501"
      ]
    },
    {
      "cell_type": "code",
      "source": [
        "from collections.abc import Generator\n",
        "\n",
        "assert isinstance(limit(pascal_triangle, 5), Generator), \"You have created not a generator\""
      ],
      "metadata": {
        "id": "bOqlzFur04lI"
      },
      "execution_count": null,
      "outputs": []
    },
    {
      "cell_type": "markdown",
      "metadata": {
        "id": "5f7f5f09"
      },
      "source": [
        "# Задача 5"
      ]
    },
    {
      "cell_type": "markdown",
      "source": [
        "Написать генератор `all_elements(lst)`, который возвращает все элементы списка `lst` **любой** вложенности (см. пример для конкретики).\n",
        "\n",
        "Указание: для проверки того, что объект итерируемый, можно проверить, что он наследник `Iterable` (используйте функции `isinstance`/`issubclass`  и модуль [`collections.abc`](https://docs.python.org/3/library/collections.abc.html))"
      ],
      "metadata": {
        "id": "O72nL1kt1CUH"
      }
    },
    {
      "cell_type": "code",
      "execution_count": null,
      "metadata": {
        "id": "29f9bb21"
      },
      "outputs": [],
      "source": [
        "# your code here\n",
        "# импорт из модуля Python класса, проверяющего итерируемость объекта\n",
        "from collections.abc import Iterable\n",
        "\n",
        "\n",
        "def all_elements(lst):\n",
        "    \"\"\"Returns flaten generator from difficult Iterable instance\"\"\"\n",
        "    # пустой список, в который будут добавляться отдельные элементы списка\n",
        "    total_list = []\n",
        "\n",
        "    for elem in lst:\n",
        "        # если элемент списка не итерируемый, то он сразу добавляется в список\n",
        "        if not isinstance(elem, Iterable):\n",
        "            total_list.append(elem)\n",
        "        # если элемент списка итерируемый, то функция будет работать рекурсивно\n",
        "        else:\n",
        "            total_list.extend(all_elements(elem))\n",
        "\n",
        "    # преобразуем список в генератор\n",
        "    output_gen = (_ for _ in total_list)\n",
        "    return output_gen"
      ]
    },
    {
      "cell_type": "code",
      "execution_count": null,
      "metadata": {
        "id": "8af89f17"
      },
      "outputs": [],
      "source": [
        "# test\n",
        "from collections.abc import Generator\n",
        "\n",
        "assert isinstance(all_elements([1, [2, 3], [4, [5, 6], [[[7]]]], 8]), Generator), \"You have created not a generator\"\n",
        "assert list(all_elements([1, [2, 3], [4, [5, 6], [[[7]]]], 8])) == [1, 2, 3, 4, 5, 6, 7, 8], \"Wrong values\""
      ]
    }
  ]
}